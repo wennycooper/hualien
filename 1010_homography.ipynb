{
 "cells": [
  {
   "cell_type": "code",
   "execution_count": 1,
   "metadata": {},
   "outputs": [],
   "source": [
    "import cv2\n",
    "import numpy as np\n",
    "import datetime\n",
    "np.set_printoptions(precision=10)"
   ]
  },
  {
   "cell_type": "code",
   "execution_count": 2,
   "metadata": {},
   "outputs": [],
   "source": [
    "pts_gps = np.array([[23.90344056, 121.53592722], \n",
    "                      [23.90368083, 121.53650361], \n",
    "                      [23.90387389, 121.53634472],\n",
    "                      [23.90353583, 121.53588083],\n",
    "                      [23.90325667, 121.53627833],\n",
    "                      [23.90377194, 121.53645972],\n",
    "                      [23.90356778, 121.53624333],\n",
    "                      [23.90360417, 121.53637861],\n",
    "                      [23.90355778, 121.53626361],\n",
    "                      [23.90367083, 121.53619194],\n",
    "                      [23.90379306, 121.53615306],\n",
    "                      [23.90376639, 121.53642389],\n",
    "                      [23.90339194, 121.53638639]], dtype=np.float32)\n",
    "pts_xys = np.array([[876, 364],\n",
    "                      [51, 788],\n",
    "                      [1911, 745],\n",
    "                      [1066, 376],\n",
    "                      [148, 396],\n",
    "                      [910, 958],\n",
    "                      [678, 454],\n",
    "                      [417, 540],\n",
    "                      [615, 456],\n",
    "                      [1077, 475],\n",
    "                      [1554, 503],\n",
    "                      [1036, 809],\n",
    "                      [55, 448]], dtype=np.float32)"
   ]
  },
  {
   "cell_type": "code",
   "execution_count": 3,
   "metadata": {},
   "outputs": [],
   "source": [
    "# input four pairs of the corresponding points, find out perspective transformation matrix M"
   ]
  },
  {
   "cell_type": "code",
   "execution_count": 4,
   "metadata": {},
   "outputs": [],
   "source": [
    "pts1 = np.array([pts_gps[0], pts_gps[1], pts_gps[2], pts_gps[3], pts_gps[4], pts_gps[5], pts_gps[6], pts_gps[7], pts_gps[8], pts_gps[9], pts_gps[10], pts_gps[11], pts_gps[12]], dtype=np.float32)\n",
    "pts2 = np.array([pts_xys[0], pts_xys[1], pts_xys[2], pts_xys[3], pts_xys[4], pts_xys[5], pts_xys[6], pts_xys[7], pts_xys[8], pts_xys[9], pts_xys[10], pts_xys[11], pts_xys[12]], dtype=np.float32)"
   ]
  },
  {
   "cell_type": "code",
   "execution_count": 5,
   "metadata": {},
   "outputs": [
    {
     "name": "stdout",
     "output_type": "stream",
     "text": [
      "[[ 5.6526219168e+00 -1.3732664766e+01  1.5339018564e+03]\n",
      " [-1.5693472241e+00 -1.6452984433e+00  2.3747856374e+02]\n",
      " [-6.5657897431e-03 -6.9366091865e-03  1.0000000000e+00]]\n"
     ]
    }
   ],
   "source": [
    "M, mask = cv2.findHomography(pts1, pts2, cv2.RANSAC, 5.0)\n",
    "print M"
   ]
  },
  {
   "cell_type": "code",
   "execution_count": 6,
   "metadata": {},
   "outputs": [],
   "source": [
    "def compute_gps2xy(idx):\n",
    "    print(\"input %.10f, %.10f \" % (pts_gps[idx, 0], pts_gps[idx, 1]))\n",
    "    expect_result = np.matrix([pts_xys[idx, 0], pts_xys[idx, 1], 1]).T\n",
    "    print(\"input gps: \", np.matrix([pts_gps[idx, 0], pts_gps[idx, 1], 1]).T)\n",
    "    result_pre = np.matrix(M) * np.matrix([pts_gps[idx, 0], pts_gps[idx, 1], 1]).T\n",
    "    result = result_pre / result_pre[2, 0]\n",
    "    print(\"output_xy: \", result)\n",
    "    diff = result - expect_result\n",
    "    print(\"diff_xy: \", diff)"
   ]
  },
  {
   "cell_type": "code",
   "execution_count": 7,
   "metadata": {},
   "outputs": [
    {
     "name": "stdout",
     "output_type": "stream",
     "text": [
      "input 23.9034404755, 121.5359268188 \n",
      "('input gps: ', matrix([[ 23.9034404755],\n",
      "        [121.5359268188],\n",
      "        [  1.          ]]))\n",
      "('output_xy: ', matrix([[874.3414211959],\n",
      "        [370.6606865826],\n",
      "        [  1.          ]]))\n",
      "('diff_xy: ', matrix([[-1.6585788041],\n",
      "        [ 6.6606865826],\n",
      "        [ 0.          ]]))\n"
     ]
    }
   ],
   "source": [
    "#驗證 gps -> xy for point 0\n",
    "compute_gps2xy(0)"
   ]
  },
  {
   "cell_type": "code",
   "execution_count": 8,
   "metadata": {},
   "outputs": [
    {
     "name": "stdout",
     "output_type": "stream",
     "text": [
      "input 23.9036808014, 121.5365066528 \n",
      "('input gps: ', matrix([[ 23.9036808014],\n",
      "        [121.5365066528],\n",
      "        [  1.          ]]))\n",
      "('output_xy: ', matrix([[101.2768970324],\n",
      "        [707.679205997 ],\n",
      "        [  1.          ]]))\n",
      "('diff_xy: ', matrix([[ 50.2768970324],\n",
      "        [-80.320794003 ],\n",
      "        [  0.          ]]))\n"
     ]
    }
   ],
   "source": [
    "#驗證 gps -> xy for point 1\n",
    "compute_gps2xy(1)"
   ]
  },
  {
   "cell_type": "code",
   "execution_count": 9,
   "metadata": {},
   "outputs": [
    {
     "name": "stdout",
     "output_type": "stream",
     "text": [
      "input 23.9038734436, 121.5363464355 \n",
      "('input gps: ', matrix([[ 23.9038734436],\n",
      "        [121.5363464355],\n",
      "        [  1.          ]]))\n",
      "('output_xy: ', matrix([[1.7088188456e+03],\n",
      "        [7.4168149236e+02],\n",
      "        [1.0000000000e+00]]))\n",
      "('diff_xy: ', matrix([[-202.181154439 ],\n",
      "        [  -3.3185076444],\n",
      "        [   0.          ]]))\n"
     ]
    }
   ],
   "source": [
    "#驗證 gps -> xy for point 2\n",
    "compute_gps2xy(2)"
   ]
  },
  {
   "cell_type": "code",
   "execution_count": 10,
   "metadata": {},
   "outputs": [
    {
     "name": "stdout",
     "output_type": "stream",
     "text": [
      "input 23.9035358429, 121.5358810425 \n",
      "('input gps: ', matrix([[ 23.9035358429],\n",
      "        [121.5358810425],\n",
      "        [  1.          ]]))\n",
      "('output_xy: ', matrix([[1.0660000000e+03],\n",
      "        [3.7600000001e+02],\n",
      "        [1.0000000000e+00]]))\n",
      "('diff_xy: ', matrix([[3.4754521039e-08],\n",
      "        [7.8153448158e-09],\n",
      "        [0.0000000000e+00]]))\n"
     ]
    }
   ],
   "source": [
    "#驗證 gps -> xy for point 3\n",
    "compute_gps2xy(3)"
   ]
  },
  {
   "cell_type": "code",
   "execution_count": 11,
   "metadata": {},
   "outputs": [
    {
     "name": "stdout",
     "output_type": "stream",
     "text": [
      "input 23.9032573700, 121.5362777710 \n",
      "('input gps: ', matrix([[ 23.90325737 ],\n",
      "        [121.536277771],\n",
      "        [  1.         ]]))\n",
      "('output_xy: ', matrix([[148.0000000277],\n",
      "        [396.000000008 ],\n",
      "        [  1.          ]]))\n",
      "('diff_xy: ', matrix([[2.7683626058e-08],\n",
      "        [7.9674578046e-09],\n",
      "        [0.0000000000e+00]]))\n"
     ]
    }
   ],
   "source": [
    "#驗證 gps -> xy for point 4\n",
    "compute_gps2xy(4)"
   ]
  },
  {
   "cell_type": "code",
   "execution_count": 12,
   "metadata": {},
   "outputs": [
    {
     "name": "stdout",
     "output_type": "stream",
     "text": [
      "input 23.9037723541, 121.5364608765 \n",
      "('input gps: ', matrix([[ 23.9037723541],\n",
      "        [121.5364608765],\n",
      "        [  1.          ]]))\n",
      "('output_xy: ', matrix([[711.3934087144],\n",
      "        [776.3959421768],\n",
      "        [  1.          ]]))\n",
      "('diff_xy: ', matrix([[-198.6065912856],\n",
      "        [-181.6040578232],\n",
      "        [   0.          ]]))\n"
     ]
    }
   ],
   "source": [
    "#驗證 gps -> xy for point 5\n",
    "compute_gps2xy(5)"
   ]
  },
  {
   "cell_type": "code",
   "execution_count": 13,
   "metadata": {},
   "outputs": [
    {
     "name": "stdout",
     "output_type": "stream",
     "text": [
      "input 23.9035682678, 121.5362396240 \n",
      "('input gps: ', matrix([[ 23.9035682678],\n",
      "        [121.536239624 ],\n",
      "        [  1.          ]]))\n",
      "('output_xy: ', matrix([[678.0000000511],\n",
      "        [454.0000000037],\n",
      "        [  1.          ]]))\n",
      "('diff_xy: ', matrix([[5.1066308515e-08],\n",
      "        [3.7004497244e-09],\n",
      "        [0.0000000000e+00]]))\n"
     ]
    }
   ],
   "source": [
    "#驗證 gps -> xy for point 6\n",
    "compute_gps2xy(6)"
   ]
  },
  {
   "cell_type": "code",
   "execution_count": 14,
   "metadata": {},
   "outputs": [
    {
     "name": "stdout",
     "output_type": "stream",
     "text": [
      "input 23.9036045074, 121.5363769531 \n",
      "('input gps: ', matrix([[ 23.9036045074],\n",
      "        [121.5363769531],\n",
      "        [  1.          ]]))\n",
      "('output_xy: ', matrix([[435.9222470223],\n",
      "        [525.3843306623],\n",
      "        [  1.          ]]))\n",
      "('diff_xy: ', matrix([[ 18.9222470223],\n",
      "        [-14.6156693377],\n",
      "        [  0.          ]]))\n"
     ]
    }
   ],
   "source": [
    "#驗證 gps -> xy for point 7\n",
    "compute_gps2xy(7)"
   ]
  },
  {
   "cell_type": "code",
   "execution_count": 15,
   "metadata": {},
   "outputs": [
    {
     "name": "stdout",
     "output_type": "stream",
     "text": [
      "input 23.9035587311, 121.5362625122 \n",
      "('input gps: ', matrix([[ 23.9035587311],\n",
      "        [121.5362625122],\n",
      "        [  1.          ]]))\n",
      "('output_xy: ', matrix([[613.5826068345],\n",
      "        [458.4557293718],\n",
      "        [  1.          ]]))\n",
      "('diff_xy: ', matrix([[-1.4173931655],\n",
      "        [ 2.4557293718],\n",
      "        [ 0.          ]]))\n"
     ]
    }
   ],
   "source": [
    "#驗證 gps -> xy for point 8\n",
    "compute_gps2xy(8)"
   ]
  },
  {
   "cell_type": "code",
   "execution_count": 16,
   "metadata": {},
   "outputs": [
    {
     "name": "stdout",
     "output_type": "stream",
     "text": [
      "input 23.9036712646, 121.5361938477 \n",
      "('input gps: ', matrix([[ 23.9036712646],\n",
      "        [121.5361938477],\n",
      "        [  1.          ]]))\n",
      "('output_xy: ', matrix([[1.0053667698e+03],\n",
      "        [4.7123192415e+02],\n",
      "        [1.0000000000e+00]]))\n",
      "('diff_xy: ', matrix([[-71.6332301582],\n",
      "        [ -3.7680758516],\n",
      "        [  0.          ]]))\n"
     ]
    }
   ],
   "source": [
    "#驗證 gps -> xy for point 9\n",
    "compute_gps2xy(9)"
   ]
  },
  {
   "cell_type": "code",
   "execution_count": 17,
   "metadata": {},
   "outputs": [
    {
     "name": "stdout",
     "output_type": "stream",
     "text": [
      "input 23.9037933350, 121.5361557007 \n",
      "('input gps: ', matrix([[ 23.903793335 ],\n",
      "        [121.5361557007],\n",
      "        [  1.          ]]))\n",
      "('output_xy: ', matrix([[1.4544676719e+03],\n",
      "        [5.0303564455e+02],\n",
      "        [1.0000000000e+00]]))\n",
      "('diff_xy: ', matrix([[-9.9532328146e+01],\n",
      "        [ 3.5644552518e-02],\n",
      "        [ 0.0000000000e+00]]))\n"
     ]
    }
   ],
   "source": [
    "#驗證 gps -> xy for point 10\n",
    "compute_gps2xy(10)"
   ]
  },
  {
   "cell_type": "code",
   "execution_count": 18,
   "metadata": {},
   "outputs": [
    {
     "name": "stdout",
     "output_type": "stream",
     "text": [
      "input 23.9037666321, 121.5364227295 \n",
      "('input gps: ', matrix([[ 23.9037666321],\n",
      "        [121.5364227295],\n",
      "        [  1.          ]]))\n",
      "('output_xy: ', matrix([[835.5263296148],\n",
      "        [703.2892507716],\n",
      "        [  1.          ]]))\n",
      "('diff_xy: ', matrix([[-200.4736703852],\n",
      "        [-105.7107492284],\n",
      "        [   0.          ]]))\n"
     ]
    }
   ],
   "source": [
    "#驗證 gps -> xy for point 11\n",
    "compute_gps2xy(11)"
   ]
  },
  {
   "cell_type": "code",
   "execution_count": 19,
   "metadata": {},
   "outputs": [
    {
     "name": "stdout",
     "output_type": "stream",
     "text": [
      "input 23.9033927917, 121.5363845825 \n",
      "('input gps: ', matrix([[ 23.9033927917],\n",
      "        [121.5363845825],\n",
      "        [  1.          ]]))\n",
      "('output_xy: ', matrix([[ 55.0000000431],\n",
      "        [448.0000000187],\n",
      "        [  1.          ]]))\n",
      "('diff_xy: ', matrix([[4.3111853643e-08],\n",
      "        [1.8672096758e-08],\n",
      "        [0.0000000000e+00]]))\n"
     ]
    }
   ],
   "source": [
    "#驗證 gps -> xy for point 12\n",
    "compute_gps2xy(12)"
   ]
  },
  {
   "cell_type": "code",
   "execution_count": 20,
   "metadata": {},
   "outputs": [
    {
     "name": "stdout",
     "output_type": "stream",
     "text": [
      "[[ 1.4892641918e+01  2.3056715298e+04 -5.4983194845e+06]\n",
      " [ 7.5396550828e+01  1.1722918571e+05 -2.7955069558e+07]\n",
      " [ 6.2077836266e-01  9.6455859131e+02 -2.3001320199e+05]]\n"
     ]
    }
   ],
   "source": [
    "# inverse Transform\n",
    "inv_M = np.linalg.inv(M) \n",
    "print inv_M\n"
   ]
  },
  {
   "cell_type": "code",
   "execution_count": 21,
   "metadata": {},
   "outputs": [],
   "source": [
    "def compute_xy2gps(idx):\n",
    "    expect_result = np.matrix([pts_gps[idx, 0], pts_gps[idx, 1], 1]).T\n",
    "    print(\"input xy: \", np.matrix([pts_xys[idx, 0], pts_xys[idx, 1], 1]).T)\n",
    "    result_pre = np.matrix(inv_M) * np.matrix([pts_xys[idx, 0], pts_xys[idx, 1], 1]).T\n",
    "    result = result_pre / result_pre[2, 0]\n",
    "    print(\"output_gps: \", result)\n",
    "    diff = result - expect_result\n",
    "    print(\"diff_gps: \", diff)"
   ]
  },
  {
   "cell_type": "code",
   "execution_count": 22,
   "metadata": {},
   "outputs": [
    {
     "name": "stdout",
     "output_type": "stream",
     "text": [
      "('input xy: ', matrix([[876.],\n",
      "        [364.],\n",
      "        [  1.]]))\n",
      "('output_gps: ', matrix([[ 23.9034167634],\n",
      "        [121.5358898069],\n",
      "        [  1.          ]]))\n",
      "('diff_gps: ', matrix([[-2.3712077084e-05],\n",
      "        [-3.7011958398e-05],\n",
      "        [ 0.0000000000e+00]]))\n"
     ]
    }
   ],
   "source": [
    "#驗證 xy -> gps for point 0\n",
    "compute_xy2gps(0)"
   ]
  },
  {
   "cell_type": "code",
   "execution_count": 23,
   "metadata": {},
   "outputs": [
    {
     "name": "stdout",
     "output_type": "stream",
     "text": [
      "('input xy: ', matrix([[ 51.],\n",
      "        [788.],\n",
      "        [  1.]]))\n",
      "('output_gps: ', matrix([[ 23.9037082224],\n",
      "        [121.5365272267],\n",
      "        [  1.          ]]))\n",
      "('diff_gps: ', matrix([[2.7421032776e-05],\n",
      "        [2.0573870700e-05],\n",
      "        [0.0000000000e+00]]))\n"
     ]
    }
   ],
   "source": [
    "#驗證 xy -> gps for point 1\n",
    "compute_xy2gps(1)"
   ]
  },
  {
   "cell_type": "code",
   "execution_count": 24,
   "metadata": {},
   "outputs": [
    {
     "name": "stdout",
     "output_type": "stream",
     "text": [
      "('input xy: ', matrix([[1.911e+03],\n",
      "        [7.450e+02],\n",
      "        [1.000e+00]]))\n",
      "('output_gps: ', matrix([[ 23.9038957796],\n",
      "        [121.5363273064],\n",
      "        [  1.          ]]))\n",
      "('diff_gps: ', matrix([[ 2.2335959876e-05],\n",
      "        [-1.9129099115e-05],\n",
      "        [ 0.0000000000e+00]]))\n"
     ]
    }
   ],
   "source": [
    "#驗證 xy -> gps for point 2\n",
    "compute_xy2gps(2)"
   ]
  },
  {
   "cell_type": "code",
   "execution_count": 25,
   "metadata": {},
   "outputs": [
    {
     "name": "stdout",
     "output_type": "stream",
     "text": [
      "('input xy: ', matrix([[1.066e+03],\n",
      "        [3.760e+02],\n",
      "        [1.000e+00]]))\n",
      "('output_gps: ', matrix([[ 23.9035358429],\n",
      "        [121.5358810425],\n",
      "        [  1.          ]]))\n",
      "('diff_gps: ', matrix([[-4.6185277824e-14],\n",
      "        [-1.9895196601e-13],\n",
      "        [ 0.0000000000e+00]]))\n"
     ]
    }
   ],
   "source": [
    "#驗證 xy -> gps for point 3\n",
    "compute_xy2gps(3)"
   ]
  },
  {
   "cell_type": "code",
   "execution_count": 26,
   "metadata": {},
   "outputs": [
    {
     "name": "stdout",
     "output_type": "stream",
     "text": [
      "('input xy: ', matrix([[148.],\n",
      "        [396.],\n",
      "        [  1.]]))\n",
      "('output_gps: ', matrix([[ 23.90325737 ],\n",
      "        [121.536277771],\n",
      "        [  1.         ]]))\n",
      "('diff_gps: ', matrix([[-1.2079226508e-13],\n",
      "        [-4.2632564146e-14],\n",
      "        [ 0.0000000000e+00]]))\n"
     ]
    }
   ],
   "source": [
    "#驗證 xy -> gps for point 4\n",
    "compute_xy2gps(4)"
   ]
  },
  {
   "cell_type": "code",
   "execution_count": 27,
   "metadata": {},
   "outputs": [
    {
     "name": "stdout",
     "output_type": "stream",
     "text": [
      "('input xy: ', matrix([[910.],\n",
      "        [958.],\n",
      "        [  1.]]))\n",
      "('output_gps: ', matrix([[ 23.9038207315],\n",
      "        [121.5364851426],\n",
      "        [  1.          ]]))\n",
      "('diff_gps: ', matrix([[4.8377406522e-05],\n",
      "        [2.4266102997e-05],\n",
      "        [0.0000000000e+00]]))\n"
     ]
    }
   ],
   "source": [
    "#驗證 xy -> gps for point 5\n",
    "compute_xy2gps(5)"
   ]
  },
  {
   "cell_type": "code",
   "execution_count": 28,
   "metadata": {},
   "outputs": [
    {
     "name": "stdout",
     "output_type": "stream",
     "text": [
      "('input xy: ', matrix([[678.],\n",
      "        [454.],\n",
      "        [  1.]]))\n",
      "('output_gps: ', matrix([[ 23.9035682678],\n",
      "        [121.536239624 ],\n",
      "        [  1.          ]]))\n",
      "('diff_gps: ', matrix([[-5.6843418861e-14],\n",
      "        [-4.2632564146e-14],\n",
      "        [ 0.0000000000e+00]]))\n"
     ]
    }
   ],
   "source": [
    "#驗證 xy -> gps for point 6\n",
    "compute_xy2gps(6)"
   ]
  },
  {
   "cell_type": "code",
   "execution_count": 29,
   "metadata": {},
   "outputs": [
    {
     "name": "stdout",
     "output_type": "stream",
     "text": [
      "('input xy: ', matrix([[417.],\n",
      "        [540.],\n",
      "        [  1.]]))\n",
      "('output_gps: ', matrix([[ 23.9036154804],\n",
      "        [121.5363917477],\n",
      "        [  1.          ]]))\n",
      "('diff_gps: ', matrix([[1.0972916183e-05],\n",
      "        [1.4794603189e-05],\n",
      "        [0.0000000000e+00]]))\n"
     ]
    }
   ],
   "source": [
    "#驗證 xy -> gps for point 7\n",
    "compute_xy2gps(7)"
   ]
  },
  {
   "cell_type": "code",
   "execution_count": 30,
   "metadata": {},
   "outputs": [
    {
     "name": "stdout",
     "output_type": "stream",
     "text": [
      "('input xy: ', matrix([[615.],\n",
      "        [456.],\n",
      "        [  1.]]))\n",
      "('output_gps: ', matrix([[ 23.9035552113],\n",
      "        [121.5362582048],\n",
      "        [  1.          ]]))\n",
      "('diff_gps: ', matrix([[-3.5198156532e-06],\n",
      "        [-4.3074152813e-06],\n",
      "        [ 0.0000000000e+00]]))\n"
     ]
    }
   ],
   "source": [
    "#驗證 xy -> gps for point 8\n",
    "compute_xy2gps(8)"
   ]
  },
  {
   "cell_type": "code",
   "execution_count": 31,
   "metadata": {},
   "outputs": [
    {
     "name": "stdout",
     "output_type": "stream",
     "text": [
      "('input xy: ', matrix([[1.077e+03],\n",
      "        [4.750e+02],\n",
      "        [1.000e+00]]))\n",
      "('output_gps: ', matrix([[ 23.9036917801],\n",
      "        [121.536184724 ],\n",
      "        [  1.          ]]))\n",
      "('diff_gps: ', matrix([[ 2.0515444124e-05],\n",
      "        [-9.1236110507e-06],\n",
      "        [ 0.0000000000e+00]]))\n"
     ]
    }
   ],
   "source": [
    "#驗證 xy -> gps for point 9\n",
    "compute_xy2gps(9)"
   ]
  },
  {
   "cell_type": "code",
   "execution_count": 32,
   "metadata": {},
   "outputs": [
    {
     "name": "stdout",
     "output_type": "stream",
     "text": [
      "('input xy: ', matrix([[1.554e+03],\n",
      "        [5.030e+02],\n",
      "        [1.000e+00]]))\n",
      "('output_gps: ', matrix([[ 23.9038141824],\n",
      "        [121.536136028 ],\n",
      "        [  1.          ]]))\n",
      "('diff_gps: ', matrix([[ 2.0847425347e-05],\n",
      "        [-1.9672722487e-05],\n",
      "        [ 0.0000000000e+00]]))\n"
     ]
    }
   ],
   "source": [
    "#驗證 xy -> gps for point 10\n",
    "compute_xy2gps(10)"
   ]
  },
  {
   "cell_type": "code",
   "execution_count": 33,
   "metadata": {},
   "outputs": [
    {
     "name": "stdout",
     "output_type": "stream",
     "text": [
      "('input xy: ', matrix([[1.036e+03],\n",
      "        [8.090e+02],\n",
      "        [1.000e+00]]))\n",
      "('output_gps: ', matrix([[ 23.9038114654],\n",
      "        [121.5364398032],\n",
      "        [  1.          ]]))\n",
      "('diff_gps: ', matrix([[4.4833342635e-05],\n",
      "        [1.7073674329e-05],\n",
      "        [0.0000000000e+00]]))\n"
     ]
    }
   ],
   "source": [
    "#驗證 xy -> gps for point 11\n",
    "compute_xy2gps(11)"
   ]
  },
  {
   "cell_type": "code",
   "execution_count": 34,
   "metadata": {},
   "outputs": [
    {
     "name": "stdout",
     "output_type": "stream",
     "text": [
      "('input xy: ', matrix([[ 55.],\n",
      "        [448.],\n",
      "        [  1.]]))\n",
      "('output_gps: ', matrix([[ 23.9033927917],\n",
      "        [121.5363845825],\n",
      "        [  1.          ]]))\n",
      "('diff_gps: ', matrix([[-1.0658141036e-13],\n",
      "        [-2.8421709430e-14],\n",
      "        [ 0.0000000000e+00]]))\n"
     ]
    }
   ],
   "source": [
    "#驗證 xy -> gps for point 12\n",
    "compute_xy2gps(12)"
   ]
  },
  {
   "cell_type": "code",
   "execution_count": null,
   "metadata": {},
   "outputs": [],
   "source": []
  }
 ],
 "metadata": {
  "kernelspec": {
   "display_name": "Python 2",
   "language": "python",
   "name": "python2"
  },
  "language_info": {
   "codemirror_mode": {
    "name": "ipython",
    "version": 2
   },
   "file_extension": ".py",
   "mimetype": "text/x-python",
   "name": "python",
   "nbconvert_exporter": "python",
   "pygments_lexer": "ipython2",
   "version": "2.7.12"
  }
 },
 "nbformat": 4,
 "nbformat_minor": 2
}
