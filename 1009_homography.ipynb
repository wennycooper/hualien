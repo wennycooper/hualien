{
 "cells": [
  {
   "cell_type": "code",
   "execution_count": 1,
   "metadata": {},
   "outputs": [],
   "source": [
    "import cv2\n",
    "import numpy as np\n",
    "import datetime\n",
    "np.set_printoptions(precision=10)"
   ]
  },
  {
   "cell_type": "code",
   "execution_count": 2,
   "metadata": {},
   "outputs": [],
   "source": [
    "pts_gps = np.array([[23.90377194, 121.53645972], \n",
    "                      [23.90391278, 121.53635972], \n",
    "                      [23.90377861, 121.53629389],\n",
    "                      [23.90375806, 121.53625750],\n",
    "                      [23.90362417, 121.53638333],\n",
    "                      [23.90367667, 121.53651000],\n",
    "                      ], dtype=np.float128)\n",
    "pts_xys = np.array([[830, 413],\n",
    "                      [63, 421],\n",
    "                      [461, 588],\n",
    "                      [489, 755],\n",
    "                      [1618, 555],\n",
    "                      [1252, 406],\n",
    "                      ], dtype=np.float128)"
   ]
  },
  {
   "cell_type": "code",
   "execution_count": 3,
   "metadata": {},
   "outputs": [],
   "source": [
    "# input four pairs of the corresponding points, find out perspective transformation matrix M"
   ]
  },
  {
   "cell_type": "code",
   "execution_count": 4,
   "metadata": {},
   "outputs": [],
   "source": [
    "pts1 = np.array([pts_gps[0], pts_gps[1], pts_gps[2], pts_gps[3], pts_gps[4], pts_gps[5]], dtype=np.float64)\n",
    "pts2 = np.array([pts_xys[0], pts_xys[1], pts_xys[2], pts_xys[3], pts_xys[4], pts_xys[5]], dtype=np.float64)"
   ]
  },
  {
   "cell_type": "code",
   "execution_count": 5,
   "metadata": {},
   "outputs": [
    {
     "name": "stdout",
     "output_type": "stream",
     "text": [
      "[[ 8.1789041009e+00 -9.0193727963e+00  9.0067378277e+02]\n",
      " [-1.1599166129e-01 -1.6191222254e+00  1.9955395520e+02]\n",
      " [-2.3067101235e-03 -7.7743216810e-03  1.0000000000e+00]]\n"
     ]
    }
   ],
   "source": [
    "M, mask = cv2.findHomography(pts1, pts2)\n",
    "print M"
   ]
  },
  {
   "cell_type": "code",
   "execution_count": 6,
   "metadata": {},
   "outputs": [],
   "source": [
    "def compute_gps2xy(idx):\n",
    "    print(\"input %.10f, %.10f \" % (pts_gps[idx, 0], pts_gps[idx, 1]))\n",
    "    expect_result = np.matrix([pts_xys[idx, 0], pts_xys[idx, 1], 1]).T\n",
    "    print(\"input gps: \", np.matrix([pts_gps[idx, 0], pts_gps[idx, 1], 1]).T)\n",
    "    result_pre = np.matrix(M) * np.matrix([pts_gps[idx, 0], pts_gps[idx, 1], 1]).T\n",
    "    result = result_pre / result_pre[2, 0]\n",
    "    print(\"output_xy: \", result)\n",
    "    diff = result - expect_result\n",
    "    print(\"diff_xy: \", diff)"
   ]
  },
  {
   "cell_type": "code",
   "execution_count": 7,
   "metadata": {},
   "outputs": [],
   "source": [
    "#驗證 gps -> xy for point 0\n",
    "#compute_gps2xy(0)"
   ]
  },
  {
   "cell_type": "code",
   "execution_count": 8,
   "metadata": {},
   "outputs": [],
   "source": [
    "#驗證 gps -> xy for point 1\n",
    "#compute_gps2xy(1)"
   ]
  },
  {
   "cell_type": "code",
   "execution_count": 9,
   "metadata": {},
   "outputs": [],
   "source": [
    "#驗證 gps -> xy for point 2\n",
    "#compute_gps2xy(2)"
   ]
  },
  {
   "cell_type": "code",
   "execution_count": 10,
   "metadata": {},
   "outputs": [],
   "source": [
    "#驗證 gps -> xy for point 3\n",
    "#compute_gps2xy(3)"
   ]
  },
  {
   "cell_type": "code",
   "execution_count": 11,
   "metadata": {},
   "outputs": [],
   "source": [
    "#驗證 gps -> xy for point 4\n",
    "#compute_gps2xy(4)"
   ]
  },
  {
   "cell_type": "code",
   "execution_count": 12,
   "metadata": {},
   "outputs": [],
   "source": [
    "#驗證 gps -> xy for point 5\n",
    "#compute_gps2xy(5)"
   ]
  },
  {
   "cell_type": "code",
   "execution_count": 13,
   "metadata": {},
   "outputs": [
    {
     "name": "stdout",
     "output_type": "stream",
     "text": [
      "[[ 1.4563930478e+03 -4.3379495535e+04  7.3448148733e+06]\n",
      " [ 7.4044010365e+03 -2.2055906304e+05  3.7344483494e+07]\n",
      " [ 6.0923672100e+01 -1.8147610272e+03  3.0727138652e+05]]\n"
     ]
    }
   ],
   "source": [
    "# inverse Transform\n",
    "inv_M = np.linalg.inv(M) \n",
    "print inv_M\n"
   ]
  },
  {
   "cell_type": "code",
   "execution_count": 14,
   "metadata": {},
   "outputs": [],
   "source": [
    "def compute_xy2gps(idx):\n",
    "    expect_result = np.matrix([pts_gps[idx, 0], pts_gps[idx, 1], 1]).T\n",
    "    print(\"input xy: \", np.matrix([pts_xys[idx, 0], pts_xys[idx, 1], 1]).T)\n",
    "    result_pre = np.matrix(inv_M) * np.matrix([pts_xys[idx, 0], pts_xys[idx, 1], 1]).T\n",
    "    result = result_pre / result_pre[2, 0]\n",
    "    print(\"output_gps: \", result)\n",
    "    diff = result - expect_result\n",
    "    print(\"diff_gps: \", diff)"
   ]
  },
  {
   "cell_type": "code",
   "execution_count": 15,
   "metadata": {},
   "outputs": [
    {
     "name": "stdout",
     "output_type": "stream",
     "text": [
      "('input xy: ', matrix([[830.],\n",
      "        [413.],\n",
      "        [  1.]], dtype=float128))\n",
      "('output_gps: ', matrix([[ 23.9037734505],\n",
      "        [121.5364524139],\n",
      "        [  1.          ]], dtype=float128))\n",
      "('diff_gps: ', matrix([[ 1.5104691573e-06],\n",
      "        [-7.3061236750e-06],\n",
      "        [ 0.0000000000e+00]], dtype=float128))\n"
     ]
    }
   ],
   "source": [
    "#驗證 xy -> gps for point 0\n",
    "compute_xy2gps(0)"
   ]
  },
  {
   "cell_type": "code",
   "execution_count": 16,
   "metadata": {},
   "outputs": [
    {
     "name": "stdout",
     "output_type": "stream",
     "text": [
      "('input xy: ', matrix([[ 63.],\n",
      "        [421.],\n",
      "        [  1.]], dtype=float128))\n",
      "('output_gps: ', matrix([[ 23.9039189608],\n",
      "        [121.5363648272],\n",
      "        [  1.          ]], dtype=float128))\n",
      "('diff_gps: ', matrix([[6.1808420271e-06],\n",
      "        [5.1071976262e-06],\n",
      "        [0.0000000000e+00]], dtype=float128))\n"
     ]
    }
   ],
   "source": [
    "#驗證 xy -> gps for point 1\n",
    "compute_xy2gps(1)"
   ]
  },
  {
   "cell_type": "code",
   "execution_count": 17,
   "metadata": {},
   "outputs": [
    {
     "name": "stdout",
     "output_type": "stream",
     "text": [
      "('input xy: ', matrix([[461.],\n",
      "        [588.],\n",
      "        [  1.]], dtype=float128))\n",
      "('output_gps: ', matrix([[ 23.9037838173],\n",
      "        [121.5362967063],\n",
      "        [  1.          ]], dtype=float128))\n",
      "('diff_gps: ', matrix([[5.2072931422e-06],\n",
      "        [2.8163016004e-06],\n",
      "        [0.0000000000e+00]], dtype=float128))\n"
     ]
    }
   ],
   "source": [
    "#驗證 xy -> gps for point 2\n",
    "compute_xy2gps(2)"
   ]
  },
  {
   "cell_type": "code",
   "execution_count": 18,
   "metadata": {},
   "outputs": [
    {
     "name": "stdout",
     "output_type": "stream",
     "text": [
      "('input xy: ', matrix([[489.],\n",
      "        [755.],\n",
      "        [  1.]], dtype=float128))\n",
      "('output_gps: ', matrix([[ 23.9037556436],\n",
      "        [121.5362537865],\n",
      "        [  1.          ]], dtype=float128))\n",
      "('diff_gps: ', matrix([[-2.4164426969e-06],\n",
      "        [-3.7134867348e-06],\n",
      "        [ 0.0000000000e+00]], dtype=float128))\n"
     ]
    }
   ],
   "source": [
    "#驗證 xy -> gps for point 3\n",
    "compute_xy2gps(3)"
   ]
  },
  {
   "cell_type": "code",
   "execution_count": 19,
   "metadata": {},
   "outputs": [
    {
     "name": "stdout",
     "output_type": "stream",
     "text": [
      "('input xy: ', matrix([[1.618e+03],\n",
      "        [5.550e+02],\n",
      "        [1.000e+00]], dtype=float128))\n",
      "('output_gps: ', matrix([[ 23.9036256547],\n",
      "        [121.5363817467],\n",
      "        [  1.          ]], dtype=float128))\n",
      "('diff_gps: ', matrix([[ 1.4846622668e-06],\n",
      "        [-1.5832960287e-06],\n",
      "        [ 0.0000000000e+00]], dtype=float128))\n"
     ]
    }
   ],
   "source": [
    "#驗證 xy -> gps for point 4\n",
    "compute_xy2gps(4)"
   ]
  },
  {
   "cell_type": "code",
   "execution_count": 20,
   "metadata": {},
   "outputs": [
    {
     "name": "stdout",
     "output_type": "stream",
     "text": [
      "('input xy: ', matrix([[1.252e+03],\n",
      "        [4.060e+02],\n",
      "        [1.000e+00]], dtype=float128))\n",
      "('output_gps: ', matrix([[ 23.9036718412],\n",
      "        [121.5365182758],\n",
      "        [  1.          ]], dtype=float128))\n",
      "('diff_gps: ', matrix([[-4.8288309465e-06],\n",
      "        [ 8.2758474950e-06],\n",
      "        [ 0.0000000000e+00]], dtype=float128))\n"
     ]
    }
   ],
   "source": [
    "#驗證 xy -> gps for point 5\n",
    "compute_xy2gps(5)"
   ]
  },
  {
   "cell_type": "code",
   "execution_count": null,
   "metadata": {},
   "outputs": [],
   "source": []
  }
 ],
 "metadata": {
  "kernelspec": {
   "display_name": "Python 2",
   "language": "python",
   "name": "python2"
  },
  "language_info": {
   "codemirror_mode": {
    "name": "ipython",
    "version": 2
   },
   "file_extension": ".py",
   "mimetype": "text/x-python",
   "name": "python",
   "nbconvert_exporter": "python",
   "pygments_lexer": "ipython2",
   "version": "2.7.12"
  }
 },
 "nbformat": 4,
 "nbformat_minor": 2
}
