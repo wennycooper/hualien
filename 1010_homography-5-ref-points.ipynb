{
 "cells": [
  {
   "cell_type": "code",
   "execution_count": 1,
   "metadata": {},
   "outputs": [],
   "source": [
    "import cv2\n",
    "import numpy as np\n",
    "import datetime\n",
    "np.set_printoptions(formatter={'float': '{: 0.8f}'.format})"
   ]
  },
  {
   "cell_type": "code",
   "execution_count": 2,
   "metadata": {},
   "outputs": [
    {
     "name": "stdout",
     "output_type": "stream",
     "text": [
      "[[ 23.90344056 121.53592722]\n",
      " [ 23.90368083 121.53650361]\n",
      " [ 23.90387389 121.53634472]\n",
      " [ 23.90353583 121.53588083]\n",
      " [ 23.90325667 121.53627833]\n",
      " [ 23.90377194 121.53645972]\n",
      " [ 23.90356778 121.53624333]\n",
      " [ 23.90360417 121.53637861]\n",
      " [ 23.90355778 121.53626361]\n",
      " [ 23.90367083 121.53619194]\n",
      " [ 23.90379306 121.53615306]\n",
      " [ 23.90376639 121.53642389]\n",
      " [ 23.90339194 121.53638639]]\n"
     ]
    }
   ],
   "source": [
    "pts_gps = np.array([[23.90344056, 121.53592722], \n",
    "                      [23.90368083, 121.53650361], \n",
    "                      [23.90387389, 121.53634472],\n",
    "                      [23.90353583, 121.53588083],\n",
    "                      [23.90325667, 121.53627833],\n",
    "                      [23.90377194, 121.53645972],\n",
    "                      [23.90356778, 121.53624333],\n",
    "                      [23.90360417, 121.53637861],\n",
    "                      [23.90355778, 121.53626361],\n",
    "                      [23.90367083, 121.53619194],\n",
    "                      [23.90379306, 121.53615306],\n",
    "                      [23.90376639, 121.53642389],\n",
    "                      [23.90339194, 121.53638639]], dtype=np.float128)\n",
    "\n",
    "print pts_gps\n",
    "pts_xys = np.array([[876, 364],\n",
    "                      [51, 788],\n",
    "                      [1911, 745],\n",
    "                      [1066, 376],\n",
    "                      [148, 396],\n",
    "                      [910, 958],\n",
    "                      [678, 454],\n",
    "                      [417, 540],\n",
    "                      [615, 456],\n",
    "                      [1077, 475],\n",
    "                      [1554, 503],\n",
    "                      [1036, 809],\n",
    "                      [55, 448]], dtype=np.float128)"
   ]
  },
  {
   "cell_type": "code",
   "execution_count": 3,
   "metadata": {},
   "outputs": [],
   "source": [
    "# input four pairs of the corresponding points, find out perspective transformation matrix M"
   ]
  },
  {
   "cell_type": "code",
   "execution_count": 4,
   "metadata": {},
   "outputs": [],
   "source": [
    "pts1 = np.array([pts_gps[6], pts_gps[8], pts_gps[7], pts_gps[11], pts_gps[9]], dtype=np.float64)\n",
    "pts2 = np.array([pts_xys[6], pts_xys[8], pts_xys[7], pts_xys[11], pts_xys[9]], dtype=np.float64)"
   ]
  },
  {
   "cell_type": "code",
   "execution_count": 5,
   "metadata": {},
   "outputs": [
    {
     "name": "stdout",
     "output_type": "stream",
     "text": [
      "[[ 6.23934771 -13.29129504  1466.23418492]\n",
      " [-1.48259197 -1.65821972  236.97490934]\n",
      " [-0.00655396 -0.00693894  1.00000000]]\n"
     ]
    }
   ],
   "source": [
    "M, mask = cv2.findHomography(pts1, pts2)\n",
    "print M"
   ]
  },
  {
   "cell_type": "code",
   "execution_count": 6,
   "metadata": {},
   "outputs": [],
   "source": [
    "def compute_gps2xy(idx):\n",
    "    print(\"input %.10f, %.10f \" % (pts_gps[idx, 0], pts_gps[idx, 1]))\n",
    "    expect_result = np.matrix([pts_xys[idx, 0], pts_xys[idx, 1], 1]).T\n",
    "    print(\"input gps: \", np.matrix([pts_gps[idx, 0], pts_gps[idx, 1], 1]).T)\n",
    "    result_pre = np.matrix(M) * np.matrix([pts_gps[idx, 0], pts_gps[idx, 1], 1]).T\n",
    "    result = result_pre / result_pre[2, 0]\n",
    "    print(\"output_xy: \", result)\n",
    "    diff = result - expect_result\n",
    "    print(\"diff_xy: \", diff)"
   ]
  },
  {
   "cell_type": "code",
   "execution_count": 7,
   "metadata": {},
   "outputs": [],
   "source": [
    "#驗證 gps -> xy for point 0\n",
    "#compute_gps2xy(0)"
   ]
  },
  {
   "cell_type": "code",
   "execution_count": 8,
   "metadata": {},
   "outputs": [],
   "source": [
    "#驗證 gps -> xy for point 1\n",
    "#compute_gps2xy(1)"
   ]
  },
  {
   "cell_type": "code",
   "execution_count": 9,
   "metadata": {},
   "outputs": [],
   "source": [
    "#驗證 gps -> xy for point 2\n",
    "#compute_gps2xy(2)"
   ]
  },
  {
   "cell_type": "code",
   "execution_count": 10,
   "metadata": {},
   "outputs": [],
   "source": [
    "#驗證 gps -> xy for point 3\n",
    "#compute_gps2xy(3)"
   ]
  },
  {
   "cell_type": "code",
   "execution_count": 11,
   "metadata": {},
   "outputs": [],
   "source": [
    "#驗證 gps -> xy for point 4\n",
    "#compute_gps2xy(4)"
   ]
  },
  {
   "cell_type": "code",
   "execution_count": 12,
   "metadata": {},
   "outputs": [],
   "source": [
    "#驗證 gps -> xy for point 5\n",
    "#compute_gps2xy(5)"
   ]
  },
  {
   "cell_type": "code",
   "execution_count": 13,
   "metadata": {},
   "outputs": [],
   "source": [
    "#驗證 gps -> xy for point 6\n",
    "#compute_gps2xy(6)"
   ]
  },
  {
   "cell_type": "code",
   "execution_count": 14,
   "metadata": {},
   "outputs": [],
   "source": [
    "#驗證 gps -> xy for point 7\n",
    "#compute_gps2xy(7)"
   ]
  },
  {
   "cell_type": "code",
   "execution_count": 15,
   "metadata": {},
   "outputs": [],
   "source": [
    "#驗證 gps -> xy for point 8\n",
    "#compute_gps2xy(8)"
   ]
  },
  {
   "cell_type": "code",
   "execution_count": 16,
   "metadata": {},
   "outputs": [],
   "source": [
    "#驗證 gps -> xy for point 9\n",
    "#compute_gps2xy(9)"
   ]
  },
  {
   "cell_type": "code",
   "execution_count": 17,
   "metadata": {},
   "outputs": [],
   "source": [
    "#驗證 gps -> xy for point 10\n",
    "#compute_gps2xy(10)"
   ]
  },
  {
   "cell_type": "code",
   "execution_count": 18,
   "metadata": {},
   "outputs": [],
   "source": [
    "#驗證 gps -> xy for point 11\n",
    "#compute_gps2xy(11)"
   ]
  },
  {
   "cell_type": "code",
   "execution_count": 19,
   "metadata": {},
   "outputs": [],
   "source": [
    "#驗證 gps -> xy for point 12\n",
    "#compute_gps2xy(12)"
   ]
  },
  {
   "cell_type": "code",
   "execution_count": 20,
   "metadata": {},
   "outputs": [
    {
     "name": "stdout",
     "output_type": "stream",
     "text": [
      "[[-116.68354737  26233.41703686 -6045576.21796273]\n",
      " [-593.58610612  133381.06764748 -30737630.17265373]\n",
      " [-4.88359835  1097.45614253 -252908.07103202]]\n"
     ]
    }
   ],
   "source": [
    "# inverse Transform\n",
    "inv_M = np.linalg.inv(M) \n",
    "print inv_M\n"
   ]
  },
  {
   "cell_type": "code",
   "execution_count": 21,
   "metadata": {},
   "outputs": [],
   "source": [
    "def compute_xy2gps(idx):\n",
    "    expect_result = np.matrix([pts_gps[idx, 0], pts_gps[idx, 1], 1]).T\n",
    "    print(\"input xy: \", np.matrix([pts_xys[idx, 0], pts_xys[idx, 1], 1]).T)\n",
    "    result_pre = np.matrix(inv_M) * np.matrix([pts_xys[idx, 0], pts_xys[idx, 1], 1]).T\n",
    "    result = result_pre / result_pre[2, 0]\n",
    "    print(\"output_gps: \", result)\n",
    "    diff = result - expect_result\n",
    "    print(\"diff_gps: \", diff)"
   ]
  },
  {
   "cell_type": "code",
   "execution_count": 22,
   "metadata": {},
   "outputs": [
    {
     "name": "stdout",
     "output_type": "stream",
     "text": [
      "('input xy: ', matrix([[876.],\n",
      "        [364.],\n",
      "        [  1.]], dtype=float128))\n",
      "('output_gps: ', matrix([[ 23.90345219],\n",
      "        [121.53593558],\n",
      "        [  1.        ]], dtype=float128))\n",
      "('diff_gps: ', matrix([[1.16272594e-05],\n",
      "        [8.36305077e-06],\n",
      "        [0.00000000e+00]], dtype=float128))\n"
     ]
    }
   ],
   "source": [
    "#驗證 xy -> gps for point 0\n",
    "compute_xy2gps(0)"
   ]
  },
  {
   "cell_type": "code",
   "execution_count": 23,
   "metadata": {},
   "outputs": [
    {
     "name": "stdout",
     "output_type": "stream",
     "text": [
      "('input xy: ', matrix([[ 51.],\n",
      "        [788.],\n",
      "        [  1.]], dtype=float128))\n",
      "('output_gps: ', matrix([[ 23.90367871],\n",
      "        [121.53649885],\n",
      "        [  1.        ]], dtype=float128))\n",
      "('diff_gps: ', matrix([[-2.12247315e-06],\n",
      "        [-4.76455881e-06],\n",
      "        [ 0.00000000e+00]], dtype=float128))\n"
     ]
    }
   ],
   "source": [
    "#驗證 xy -> gps for point 1\n",
    "compute_xy2gps(1)"
   ]
  },
  {
   "cell_type": "code",
   "execution_count": 24,
   "metadata": {},
   "outputs": [
    {
     "name": "stdout",
     "output_type": "stream",
     "text": [
      "('input xy: ', matrix([[1.911e+03],\n",
      "        [7.450e+02],\n",
      "        [1.000e+00]], dtype=float128))\n",
      "('output_gps: ', matrix([[ 23.90384048],\n",
      "        [121.53632217],\n",
      "        [  1.        ]], dtype=float128))\n",
      "('diff_gps: ', matrix([[-3.34075676e-05],\n",
      "        [-2.25490450e-05],\n",
      "        [ 0.00000000e+00]], dtype=float128))\n"
     ]
    }
   ],
   "source": [
    "#驗證 xy -> gps for point 2\n",
    "compute_xy2gps(2)"
   ]
  },
  {
   "cell_type": "code",
   "execution_count": 25,
   "metadata": {},
   "outputs": [
    {
     "name": "stdout",
     "output_type": "stream",
     "text": [
      "('input xy: ', matrix([[1.066e+03],\n",
      "        [3.760e+02],\n",
      "        [1.000e+00]], dtype=float128))\n",
      "('output_gps: ', matrix([[ 23.90354841],\n",
      "        [121.53592494],\n",
      "        [  1.        ]], dtype=float128))\n",
      "('diff_gps: ', matrix([[1.25758282e-05],\n",
      "        [4.41079953e-05],\n",
      "        [0.00000000e+00]], dtype=float128))\n"
     ]
    }
   ],
   "source": [
    "#驗證 xy -> gps for point 3\n",
    "compute_xy2gps(3)"
   ]
  },
  {
   "cell_type": "code",
   "execution_count": 26,
   "metadata": {},
   "outputs": [
    {
     "name": "stdout",
     "output_type": "stream",
     "text": [
      "('input xy: ', matrix([[148.],\n",
      "        [396.],\n",
      "        [  1.]], dtype=float128))\n",
      "('output_gps: ', matrix([[ 23.9033212 ],\n",
      "        [121.53627576],\n",
      "        [  1.        ]], dtype=float128))\n",
      "('diff_gps: ', matrix([[ 6.45286383e-05],\n",
      "        [-2.56980802e-06],\n",
      "        [ 0.00000000e+00]], dtype=float128))\n"
     ]
    }
   ],
   "source": [
    "#驗證 xy -> gps for point 4\n",
    "compute_xy2gps(4)"
   ]
  },
  {
   "cell_type": "code",
   "execution_count": 27,
   "metadata": {},
   "outputs": [
    {
     "name": "stdout",
     "output_type": "stream",
     "text": [
      "('input xy: ', matrix([[910.],\n",
      "        [958.],\n",
      "        [  1.]], dtype=float128))\n",
      "('output_gps: ', matrix([[ 23.90377353],\n",
      "        [121.5364634 ],\n",
      "        [  1.        ]], dtype=float128))\n",
      "('diff_gps: ', matrix([[1.58897353e-06],\n",
      "        [3.68318499e-06],\n",
      "        [0.00000000e+00]], dtype=float128))\n"
     ]
    }
   ],
   "source": [
    "#驗證 xy -> gps for point 5\n",
    "compute_xy2gps(5)"
   ]
  },
  {
   "cell_type": "code",
   "execution_count": 28,
   "metadata": {},
   "outputs": [
    {
     "name": "stdout",
     "output_type": "stream",
     "text": [
      "('input xy: ', matrix([[678.],\n",
      "        [454.],\n",
      "        [  1.]], dtype=float128))\n",
      "('output_gps: ', matrix([[ 23.90356885],\n",
      "        [121.53624278],\n",
      "        [  1.        ]], dtype=float128))\n",
      "('diff_gps: ', matrix([[ 1.06724506e-06],\n",
      "        [-5.48886061e-07],\n",
      "        [ 0.00000000e+00]], dtype=float128))\n"
     ]
    }
   ],
   "source": [
    "#驗證 xy -> gps for point 6\n",
    "compute_xy2gps(6)"
   ]
  },
  {
   "cell_type": "code",
   "execution_count": 29,
   "metadata": {},
   "outputs": [
    {
     "name": "stdout",
     "output_type": "stream",
     "text": [
      "('input xy: ', matrix([[417.],\n",
      "        [540.],\n",
      "        [  1.]], dtype=float128))\n",
      "('output_gps: ', matrix([[ 23.90360479],\n",
      "        [121.53637751],\n",
      "        [  1.        ]], dtype=float128))\n",
      "('diff_gps: ', matrix([[ 6.17689918e-07],\n",
      "        [-1.10106980e-06],\n",
      "        [ 0.00000000e+00]], dtype=float128))\n"
     ]
    }
   ],
   "source": [
    "#驗證 xy -> gps for point 7\n",
    "compute_xy2gps(7)"
   ]
  },
  {
   "cell_type": "code",
   "execution_count": 30,
   "metadata": {},
   "outputs": [
    {
     "name": "stdout",
     "output_type": "stream",
     "text": [
      "('input xy: ', matrix([[615.],\n",
      "        [456.],\n",
      "        [  1.]], dtype=float128))\n",
      "('output_gps: ', matrix([[ 23.90355792],\n",
      "        [121.53625919],\n",
      "        [  1.        ]], dtype=float128))\n",
      "('diff_gps: ', matrix([[ 1.42500187e-07],\n",
      "        [-4.41624365e-06],\n",
      "        [ 0.00000000e+00]], dtype=float128))\n"
     ]
    }
   ],
   "source": [
    "#驗證 xy -> gps for point 8\n",
    "compute_xy2gps(8)"
   ]
  },
  {
   "cell_type": "code",
   "execution_count": 31,
   "metadata": {},
   "outputs": [
    {
     "name": "stdout",
     "output_type": "stream",
     "text": [
      "('input xy: ', matrix([[1.077e+03],\n",
      "        [4.750e+02],\n",
      "        [1.000e+00]], dtype=float128))\n",
      "('output_gps: ', matrix([[ 23.90367135],\n",
      "        [121.53619371],\n",
      "        [  1.        ]], dtype=float128))\n",
      "('diff_gps: ', matrix([[5.20407484e-07],\n",
      "        [1.76972656e-06],\n",
      "        [0.00000000e+00]], dtype=float128))\n"
     ]
    }
   ],
   "source": [
    "#驗證 xy -> gps for point 9\n",
    "compute_xy2gps(9)"
   ]
  },
  {
   "cell_type": "code",
   "execution_count": 32,
   "metadata": {},
   "outputs": [
    {
     "name": "stdout",
     "output_type": "stream",
     "text": [
      "('input xy: ', matrix([[1.554e+03],\n",
      "        [5.030e+02],\n",
      "        [1.000e+00]], dtype=float128))\n",
      "('output_gps: ', matrix([[ 23.90377493],\n",
      "        [121.53614923],\n",
      "        [  1.        ]], dtype=float128))\n",
      "('diff_gps: ', matrix([[-1.81265819e-05],\n",
      "        [-3.83072467e-06],\n",
      "        [ 0.00000000e+00]], dtype=float128))\n"
     ]
    }
   ],
   "source": [
    "#驗證 xy -> gps for point 10\n",
    "compute_xy2gps(10)"
   ]
  },
  {
   "cell_type": "code",
   "execution_count": 33,
   "metadata": {},
   "outputs": [
    {
     "name": "stdout",
     "output_type": "stream",
     "text": [
      "('input xy: ', matrix([[1.036e+03],\n",
      "        [8.090e+02],\n",
      "        [1.000e+00]], dtype=float128))\n",
      "('output_gps: ', matrix([[ 23.90376661],\n",
      "        [121.53642264],\n",
      "        [  1.        ]], dtype=float128))\n",
      "('diff_gps: ', matrix([[ 2.24639273e-07],\n",
      "        [-1.25280879e-06],\n",
      "        [ 0.00000000e+00]], dtype=float128))\n"
     ]
    }
   ],
   "source": [
    "#驗證 xy -> gps for point 11\n",
    "compute_xy2gps(11)"
   ]
  },
  {
   "cell_type": "code",
   "execution_count": 34,
   "metadata": {},
   "outputs": [
    {
     "name": "stdout",
     "output_type": "stream",
     "text": [
      "('input xy: ', matrix([[ 55.],\n",
      "        [448.],\n",
      "        [  1.]], dtype=float128))\n",
      "('output_gps: ', matrix([[ 23.9034258 ],\n",
      "        [121.53636905],\n",
      "        [  1.        ]], dtype=float128))\n",
      "('diff_gps: ', matrix([[ 3.38620342e-05],\n",
      "        [-1.73442835e-05],\n",
      "        [ 0.00000000e+00]], dtype=float128))\n"
     ]
    }
   ],
   "source": [
    "#驗證 xy -> gps for point 12\n",
    "compute_xy2gps(12)"
   ]
  },
  {
   "cell_type": "code",
   "execution_count": 35,
   "metadata": {},
   "outputs": [],
   "source": [
    "#img = cv2.imread('1010.jpg', cv2.IMREAD_COLOR)\n",
    "#imgReg = cv2.warpPerspective(img, inv_M, (10000, 10000))\n",
    "#cv2.imwrite(\"1010_reg.jpg\", imgReg)\n",
    "#cv2.namedWindow(\"1010.jpg\")\n",
    "#cv2.imshow(\"1010.jpg\", img)\n",
    "#cv2.waitKey(0)"
   ]
  },
  {
   "cell_type": "code",
   "execution_count": null,
   "metadata": {},
   "outputs": [],
   "source": [
    "\n"
   ]
  }
 ],
 "metadata": {
  "kernelspec": {
   "display_name": "Python 2",
   "language": "python",
   "name": "python2"
  },
  "language_info": {
   "codemirror_mode": {
    "name": "ipython",
    "version": 2
   },
   "file_extension": ".py",
   "mimetype": "text/x-python",
   "name": "python",
   "nbconvert_exporter": "python",
   "pygments_lexer": "ipython2",
   "version": "2.7.12"
  }
 },
 "nbformat": 4,
 "nbformat_minor": 2
}
