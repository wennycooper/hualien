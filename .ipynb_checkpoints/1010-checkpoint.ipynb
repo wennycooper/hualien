{
 "cells": [
  {
   "cell_type": "code",
   "execution_count": 1,
   "metadata": {},
   "outputs": [],
   "source": [
    "import cv2\n",
    "import numpy as np\n",
    "import datetime"
   ]
  },
  {
   "cell_type": "code",
   "execution_count": 2,
   "metadata": {},
   "outputs": [],
   "source": [
    "# 產生一個 400x400 白色影像 src\n",
    "# src = np.zeros((401, 401, 3), np.uint8)\n",
    "# src[:] = (255, 255, 255)"
   ]
  },
  {
   "cell_type": "code",
   "execution_count": 3,
   "metadata": {},
   "outputs": [],
   "source": [
    "# src影像畫上格子, 方便觀察\n",
    "'''\n",
    "src = cv2.line(src, (0, 0), (400, 0), (0, 0, 255), 5)\n",
    "src = cv2.line(src, (0, 100), (400, 100), (0, 0, 255), 5)\n",
    "src = cv2.line(src, (0, 200), (400, 200), (0, 0, 255), 5)\n",
    "src = cv2.line(src, (0, 300), (400, 300), (0, 0, 255), 5)\n",
    "src = cv2.line(src, (0, 400), (400, 400), (0, 0, 255), 5)\n",
    "src = cv2.line(src, (0, 0), (0, 400), (0, 0, 255), 5)\n",
    "src = cv2.line(src, (100, 0), (100, 400), (0, 0, 255), 5)\n",
    "src = cv2.line(src, (200, 0), (200, 400), (0, 0, 255), 5)\n",
    "src = cv2.line(src, (300, 0), (300, 400), (0, 0, 255), 5)\n",
    "src = cv2.line(src, (400, 0), (400, 400), (0, 0, 255), 5)\n",
    "'''\n",
    "\n",
    "# 順便打上3個紅色點\n",
    "'''\n",
    "src = cv2.circle(src, (100,100), 15, (255, 0, 0), -1)\n",
    "src = cv2.circle(src, (300,100), 15, (255, 0, 0), -1)\n",
    "src = cv2.circle(src, (100,300), 15, (255, 0, 0), -1)\n",
    "'''"
   ]
  },
  {
   "cell_type": "code",
   "execution_count": 4,
   "metadata": {},
   "outputs": [],
   "source": [
    "# 以下利用3＋3個點, 找到Affine transformation matrix M"
   ]
  },
  {
   "cell_type": "code",
   "execution_count": 5,
   "metadata": {},
   "outputs": [],
   "source": [
    "#rows,cols,ch = src.shape"
   ]
  },
  {
   "cell_type": "code",
   "execution_count": 6,
   "metadata": {},
   "outputs": [],
   "source": [
    "pts1 = np.float32([[100,100], [300,100], [100,300]])\n",
    "pts2 = np.float32([[120,130], [360,80], [250,280]])"
   ]
  },
  {
   "cell_type": "code",
   "execution_count": 7,
   "metadata": {},
   "outputs": [],
   "source": [
    "M = cv2.getAffineTransform(pts1, pts2)"
   ]
  },
  {
   "cell_type": "code",
   "execution_count": 8,
   "metadata": {},
   "outputs": [],
   "source": [
    "dst = cv2.warpAffine(src, M, (cols,rows))"
   ]
  },
  {
   "cell_type": "code",
   "execution_count": 9,
   "metadata": {},
   "outputs": [],
   "source": [
    "import matplotlib.pyplot as plt\n"
   ]
  },
  {
   "cell_type": "code",
   "execution_count": 10,
   "metadata": {},
   "outputs": [
    {
     "data": {
      "image/png": "[encoded data removed]",
      "text/plain": [
       "<Figure size 432x288 with 2 Axes>"
      ]
     },
     "metadata": {
      "needs_background": "light"
     },
     "output_type": "display_data"
    }
   ],
   "source": [
    "plt.subplot(121),plt.imshow(src),plt.title('src')  #顯示出來看看\n",
    "plt.subplot(122),plt.imshow(dst),plt.title('dst')\n",
    "plt.show()"
   ]
  },
  {
   "cell_type": "code",
   "execution_count": 11,
   "metadata": {},
   "outputs": [],
   "source": [
    "# 取得 invertAffineTransform"
   ]
  },
  {
   "cell_type": "code",
   "execution_count": 12,
   "metadata": {},
   "outputs": [
    {
     "name": "stdout",
     "output_type": "stream",
     "text": [
      "0:00:00.000115\n"
     ]
    }
   ],
   "source": [
    "now = datetime.datetime.now()\n",
    "inv_M = cv2.invertAffineTransform(M)\n",
    "diff = datetime.datetime.now() - now   #測量 cv2.invertAffineTransform() 消耗時間\n",
    "print diff"
   ]
  },
  {
   "cell_type": "code",
   "execution_count": 13,
   "metadata": {},
   "outputs": [],
   "source": [
    "dst1 = dst.copy()\n",
    "dst1 = cv2.circle(dst1, (380,260), 15, (0, 255, 0), -1)"
   ]
  },
  {
   "cell_type": "code",
   "execution_count": 14,
   "metadata": {},
   "outputs": [],
   "source": [
    "# 將 dst 透過 inv_M 轉換成原圖src_prime"
   ]
  },
  {
   "cell_type": "code",
   "execution_count": 15,
   "metadata": {},
   "outputs": [],
   "source": [
    "src_prime = cv2.warpAffine(dst, inv_M,(cols,rows))"
   ]
  },
  {
   "cell_type": "code",
   "execution_count": 16,
   "metadata": {},
   "outputs": [
    {
     "data": {
      "image/png": "[encoded data removed]",
      "text/plain": [
       "<Figure size 432x288 with 2 Axes>"
      ]
     },
     "metadata": {
      "needs_background": "light"
     },
     "output_type": "display_data"
    }
   ],
   "source": [
    "plt.subplot(121), plt.imshow(dst), plt.title('dst')\n",
    "plt.subplot(122), plt.imshow(src_prime), plt.title('src_prime')\n",
    "plt.show()"
   ]
  },
  {
   "cell_type": "code",
   "execution_count": 17,
   "metadata": {},
   "outputs": [],
   "source": [
    "# 嘗試只轉換一個 point 的作法\n",
    "M2 = np.array([380, 260, 1.0])\n",
    "M2 = M2.reshape(3, 1)"
   ]
  },
  {
   "cell_type": "code",
   "execution_count": 18,
   "metadata": {},
   "outputs": [
    {
     "data": {
      "text/plain": [
       "array([[380.],\n",
       "       [260.],\n",
       "       [  1.]])"
      ]
     },
     "execution_count": 18,
     "metadata": {},
     "output_type": "execute_result"
    }
   ],
   "source": [
    "M2"
   ]
  },
  {
   "cell_type": "code",
   "execution_count": 19,
   "metadata": {},
   "outputs": [
    {
     "data": {
      "text/plain": [
       "array([[204.],\n",
       "       [308.]])"
      ]
     },
     "execution_count": 19,
     "metadata": {},
     "output_type": "execute_result"
    }
   ],
   "source": [
    "np.matmul(inv_M, M2)  # p = inv_M * p'"
   ]
  },
  {
   "cell_type": "code",
   "execution_count": 20,
   "metadata": {},
   "outputs": [],
   "source": [
    "src_prime = cv2.circle(src_prime, (204,308), 15, (0, 255, 0), -1)"
   ]
  },
  {
   "cell_type": "code",
   "execution_count": 21,
   "metadata": {},
   "outputs": [
    {
     "data": {
      "image/png": "[encoded data removed]",
      "text/plain": [
       "<Figure size 432x288 with 2 Axes>"
      ]
     },
     "metadata": {
      "needs_background": "light"
     },
     "output_type": "display_data"
    }
   ],
   "source": [
    "plt.subplot(121), plt.imshow(dst1), plt.title('dst1')\n",
    "plt.subplot(122), plt.imshow(src_prime), plt.title('src_prime')\n",
    "plt.show()"
   ]
  },
  {
   "cell_type": "code",
   "execution_count": null,
   "metadata": {},
   "outputs": [],
   "source": []
  }
 ],
 "metadata": {
  "kernelspec": {
   "display_name": "Python 2",
   "language": "python",
   "name": "python2"
  },
  "language_info": {
   "codemirror_mode": {
    "name": "ipython",
    "version": 2
   },
   "file_extension": ".py",
   "mimetype": "text/x-python",
   "name": "python",
   "nbconvert_exporter": "python",
   "pygments_lexer": "ipython2",
   "version": "2.7.12"
  }
 },
 "nbformat": 4,
 "nbformat_minor": 2
}
