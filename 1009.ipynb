{
 "cells": [
  {
   "cell_type": "code",
   "execution_count": 1,
   "metadata": {},
   "outputs": [],
   "source": [
    "import cv2\n",
    "import numpy as np\n",
    "import datetime"
   ]
  },
  {
   "cell_type": "code",
   "execution_count": 2,
   "metadata": {},
   "outputs": [],
   "source": [
    "# 以下利用3＋3個點, 找到Affine transformation matrix M"
   ]
  },
  {
   "cell_type": "code",
   "execution_count": 3,
   "metadata": {},
   "outputs": [],
   "source": [
    "pts1 = np.float32([[23.90367667, 121.53651000], [23.90391278, 121.53635972], [23.90375806, 121.53625750]], dtype='float128')\n",
    "pts2 = np.float32([[1252, 406], [63, 421], [489, 755]], dtype='float128')"
   ]
  },
  {
   "cell_type": "code",
   "execution_count": 4,
   "metadata": {},
   "outputs": [
    {
     "name": "stdout",
     "output_type": "stream",
     "text": [
      "[[-3.96057561e+06  1.74035601e+06 -1.16843217e+08]\n",
      " [-9.82299593e+05 -1.70617723e+06  2.30843799e+08]]\n",
      "0:00:00.000181\n"
     ]
    }
   ],
   "source": [
    "now = datetime.datetime.now()\n",
    "M = cv2.getAffineTransform(pts1, pts2)\n",
    "diff = datetime.datetime.now() - now   #測量 cv2.getAffineTransform() 消耗時間\n",
    "print M\n",
    "print diff"
   ]
  },
  {
   "cell_type": "code",
   "execution_count": 5,
   "metadata": {},
   "outputs": [
    {
     "name": "stdout",
     "output_type": "stream",
     "text": [
      "[[-2.01509183e-07 -2.05545890e-07  2.39040127e+01]\n",
      " [ 1.16015139e-07 -4.67766385e-07  1.21536551e+02]]\n",
      "0:00:00.000126\n"
     ]
    }
   ],
   "source": [
    "# 取得 invertAffineTransform\n",
    "now = datetime.datetime.now()\n",
    "inv_M = cv2.invertAffineTransform(M)\n",
    "diff = datetime.datetime.now() - now   #測量 cv2.invertAffineTransform() 消耗時間\n",
    "print inv_M\n",
    "print diff"
   ]
  },
  {
   "cell_type": "code",
   "execution_count": 6,
   "metadata": {},
   "outputs": [
    {
     "name": "stdout",
     "output_type": "stream",
     "text": [
      "[[ 3.16694340e-07]\n",
      " [-3.34716798e-06]]\n"
     ]
    }
   ],
   "source": [
    "# 驗證特徵點1\n",
    "M2 = np.array([1252, 406, 1.0])\n",
    "M2 = M2.reshape(3, 1)\n",
    "result = np.matmul(inv_M, M2)\n",
    "# p = inv_M * p'  \n",
    "diff = result - np.array([23.90367667, 121.53651000]).reshape(2,1)\n",
    "print diff"
   ]
  },
  {
   "cell_type": "code",
   "execution_count": 7,
   "metadata": {},
   "outputs": [
    {
     "data": {
      "text/plain": [
       "dtype('float64')"
      ]
     },
     "execution_count": 7,
     "metadata": {},
     "output_type": "execute_result"
    }
   ],
   "source": [
    "M2.dtype"
   ]
  },
  {
   "cell_type": "code",
   "execution_count": 8,
   "metadata": {},
   "outputs": [
    {
     "data": {
      "text/plain": [
       "dtype('float64')"
      ]
     },
     "execution_count": 8,
     "metadata": {},
     "output_type": "execute_result"
    }
   ],
   "source": [
    "result.dtype"
   ]
  },
  {
   "cell_type": "code",
   "execution_count": 9,
   "metadata": {},
   "outputs": [
    {
     "name": "stdout",
     "output_type": "stream",
     "text": [
      "[[7.17924809e-07]\n",
      " [1.97433594e-06]]\n"
     ]
    }
   ],
   "source": [
    "# 驗證特徵點2\n",
    "M2 = np.array([63, 421, 1.0])\n",
    "M2 = M2.reshape(3, 1)\n",
    "result = np.matmul(inv_M, M2)\n",
    "# p = inv_M * p'  \n",
    "diff = result - np.array([23.90391278, 121.53635972]).reshape(2,1)\n",
    "print diff"
   ]
  },
  {
   "cell_type": "code",
   "execution_count": 10,
   "metadata": {},
   "outputs": [
    {
     "name": "stdout",
     "output_type": "stream",
     "text": [
      "[[ 9.42685549e-07]\n",
      " [-2.61718750e-06]]\n"
     ]
    }
   ],
   "source": [
    "# 驗證特徵點3\n",
    "M2 = np.array([489, 755, 1.0])\n",
    "M2 = M2.reshape(3, 1)\n",
    "result = np.matmul(inv_M, M2)\n",
    "# p = inv_M * p'  \n",
    "diff = result - np.array([23.90375806, 121.53625750]).reshape(2,1)\n",
    "print diff"
   ]
  },
  {
   "cell_type": "code",
   "execution_count": 11,
   "metadata": {},
   "outputs": [
    {
     "name": "stdout",
     "output_type": "stream",
     "text": [
      "[[-1.13552516e-05]\n",
      " [-5.29992134e-06]]\n"
     ]
    }
   ],
   "source": [
    "# 驗證測試點1\n",
    "M2 = np.array([830, 413, 1.0])\n",
    "M2 = M2.reshape(3, 1)\n",
    "result = np.matmul(inv_M, M2)\n",
    "# p = inv_M * p'  \n",
    "diff = result - np.array([23.90377194, 121.53645972]).reshape(2,1)\n",
    "print diff"
   ]
  },
  {
   "cell_type": "code",
   "execution_count": 12,
   "metadata": {},
   "outputs": [
    {
     "name": "stdout",
     "output_type": "stream",
     "text": [
      "[[2.03611063e-05]\n",
      " [3.58613749e-05]]\n"
     ]
    }
   ],
   "source": [
    "# 驗證測試點2\n",
    "M2 = np.array([461, 588, 1.0])\n",
    "M2 = M2.reshape(3, 1)\n",
    "result = np.matmul(inv_M, M2)\n",
    "# p = inv_M * p'  \n",
    "diff = result - np.array([23.90377861, 121.53629389]).reshape(2,1)\n",
    "print diff"
   ]
  },
  {
   "cell_type": "code",
   "execution_count": 13,
   "metadata": {},
   "outputs": [
    {
     "name": "stdout",
     "output_type": "stream",
     "text": [
      "[[-5.15620043e-05]\n",
      " [ 9.60871815e-05]]\n"
     ]
    }
   ],
   "source": [
    "# 驗證測試點3\n",
    "M2 = np.array([1618, 555, 1.0])\n",
    "M2 = M2.reshape(3, 1)\n",
    "result = np.matmul(inv_M, M2)\n",
    "# p = inv_M * p'  \n",
    "diff = result - np.array([23.90362417, 121.53638333]).reshape(2,1)\n",
    "print diff"
   ]
  },
  {
   "cell_type": "code",
   "execution_count": null,
   "metadata": {},
   "outputs": [],
   "source": []
  }
 ],
 "metadata": {
  "kernelspec": {
   "display_name": "Python 2",
   "language": "python",
   "name": "python2"
  },
  "language_info": {
   "codemirror_mode": {
    "name": "ipython",
    "version": 2
   },
   "file_extension": ".py",
   "mimetype": "text/x-python",
   "name": "python",
   "nbconvert_exporter": "python",
   "pygments_lexer": "ipython2",
   "version": "2.7.12"
  }
 },
 "nbformat": 4,
 "nbformat_minor": 2
}
