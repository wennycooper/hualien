{
 "cells": [
  {
   "cell_type": "code",
   "execution_count": 1,
   "metadata": {},
   "outputs": [],
   "source": [
    "import cv2\n",
    "import numpy as np\n",
    "import datetime\n",
    "np.set_printoptions(precision=10)"
   ]
  },
  {
   "cell_type": "code",
   "execution_count": 2,
   "metadata": {},
   "outputs": [
    {
     "name": "stdout",
     "output_type": "stream",
     "text": [
      "[[3862.3809814453 7286.0717773438]\n",
      " [4568.0999755859 6790.1611328125]\n",
      " [3890.9912109375 6446.8383789062]\n",
      " [3795.6237792969 6256.103515625 ]\n",
      " [3118.5150146484 6904.6020507812]\n",
      " [3385.5438232422 7514.9536132812]]\n"
     ]
    }
   ],
   "source": [
    "pts_gps_old = np.array([[23.90377194, 121.53645972], \n",
    "                      [23.90391278, 121.53635972], \n",
    "                      [23.90377861, 121.53629389],\n",
    "                      [23.90375806, 121.53625750],\n",
    "                      [23.90362417, 121.53638333],\n",
    "                      [23.90367667, 121.53651000],\n",
    "                      ], dtype=np.float32)\n",
    "pts_gps = (pts_gps_old - np.float32([23.903, 121.535])) * 5000000\n",
    "print pts_gps\n",
    "pts_xys = np.array([[830, 413],\n",
    "                      [63, 421],\n",
    "                      [461, 588],\n",
    "                      [489, 755],\n",
    "                      [1618, 555],\n",
    "                      [1252, 406],\n",
    "                      ], dtype=np.float32)"
   ]
  },
  {
   "cell_type": "code",
   "execution_count": 3,
   "metadata": {},
   "outputs": [],
   "source": [
    "# input four pairs of the corresponding points, find out perspective transformation matrix M"
   ]
  },
  {
   "cell_type": "code",
   "execution_count": 4,
   "metadata": {},
   "outputs": [],
   "source": [
    "pts1 = np.array([pts_gps[0], pts_gps[1], pts_gps[2], pts_gps[3], pts_gps[4], pts_gps[5]], dtype=np.float32)\n",
    "pts2 = np.array([pts_xys[0], pts_xys[1], pts_xys[2], pts_xys[3], pts_xys[4], pts_xys[5]], dtype=np.float32)"
   ]
  },
  {
   "cell_type": "code",
   "execution_count": 5,
   "metadata": {},
   "outputs": [
    {
     "name": "stdout",
     "output_type": "stream",
     "text": [
      "[[ 1.5847379094e-01 -1.7338530126e-01  4.4021798238e+02]\n",
      " [-3.9653143915e-04 -3.1891142167e-02  1.3204447855e+02]\n",
      " [-4.1088480069e-05 -1.4970626904e-04  1.0000000000e+00]]\n"
     ]
    }
   ],
   "source": [
    "M, mask = cv2.findHomography(pts1, pts2)\n",
    "print M"
   ]
  },
  {
   "cell_type": "code",
   "execution_count": 6,
   "metadata": {},
   "outputs": [],
   "source": [
    "def compute_gps2xy(idx):\n",
    "    print(\"input %.10f, %.10f \" % (pts_gps[idx, 0], pts_gps[idx, 1]))\n",
    "    expect_result = np.matrix([pts_xys[idx, 0], pts_xys[idx, 1], 1]).T\n",
    "    print(\"input gps: \", np.matrix([pts_gps[idx, 0], pts_gps[idx, 1], 1]).T)\n",
    "    result_pre = np.matrix(M) * np.matrix([pts_gps[idx, 0], pts_gps[idx, 1], 1]).T\n",
    "    result = result_pre / result_pre[2, 0]\n",
    "    print(\"output_xy: \", result)\n",
    "    diff = result - expect_result\n",
    "    print(\"diff_xy: \", diff)"
   ]
  },
  {
   "cell_type": "code",
   "execution_count": 7,
   "metadata": {},
   "outputs": [],
   "source": [
    "#驗證 gps -> xy for point 0\n",
    "#compute_gps2xy(0)"
   ]
  },
  {
   "cell_type": "code",
   "execution_count": 8,
   "metadata": {},
   "outputs": [],
   "source": [
    "#驗證 gps -> xy for point 1\n",
    "#compute_gps2xy(1)"
   ]
  },
  {
   "cell_type": "code",
   "execution_count": 9,
   "metadata": {},
   "outputs": [],
   "source": [
    "#驗證 gps -> xy for point 2\n",
    "#compute_gps2xy(2)"
   ]
  },
  {
   "cell_type": "code",
   "execution_count": 10,
   "metadata": {},
   "outputs": [],
   "source": [
    "#驗證 gps -> xy for point 3\n",
    "#compute_gps2xy(3)"
   ]
  },
  {
   "cell_type": "code",
   "execution_count": 11,
   "metadata": {},
   "outputs": [],
   "source": [
    "#驗證 gps -> xy for point 4\n",
    "#compute_gps2xy(4)"
   ]
  },
  {
   "cell_type": "code",
   "execution_count": 12,
   "metadata": {},
   "outputs": [],
   "source": [
    "#驗證 gps -> xy for point 5\n",
    "#compute_gps2xy(5)"
   ]
  },
  {
   "cell_type": "code",
   "execution_count": 13,
   "metadata": {},
   "outputs": [
    {
     "name": "stdout",
     "output_type": "stream",
     "text": [
      "[[ 7.5771366285e+00 -6.7177094839e+01  5.5347726597e+03]\n",
      " [ 3.1431518529e+00 -1.1035252990e+02  1.3187770300e+04]\n",
      " [ 7.8188256427e-04 -1.9280670253e-02  3.2017072847e+00]]\n"
     ]
    }
   ],
   "source": [
    "# inverse Transform\n",
    "inv_M = np.linalg.inv(M) \n",
    "print inv_M\n"
   ]
  },
  {
   "cell_type": "code",
   "execution_count": 14,
   "metadata": {},
   "outputs": [],
   "source": [
    "def compute_xy2gps(idx):\n",
    "    expect_result = np.matrix([pts_gps[idx, 0], pts_gps[idx, 1], 1]).T\n",
    "    print(\"input xy: \", np.matrix([pts_xys[idx, 0], pts_xys[idx, 1], 1]).T)\n",
    "    result_pre = np.matrix(inv_M) * np.matrix([pts_xys[idx, 0], pts_xys[idx, 1], 1]).T\n",
    "    result = result_pre / result_pre[2, 0]\n",
    "    print(\"output_gps: \", result)\n",
    "    diff = result - expect_result\n",
    "    print(\"diff_gps: \", diff)"
   ]
  },
  {
   "cell_type": "code",
   "execution_count": 15,
   "metadata": {},
   "outputs": [
    {
     "name": "stdout",
     "output_type": "stream",
     "text": [
      "('input xy: ', matrix([[830.],\n",
      "        [413.],\n",
      "        [  1.]]))\n",
      "('output_gps: ', matrix([[3.8714464627e+03],\n",
      "        [7.2415417898e+03],\n",
      "        [1.0000000000e+00]]))\n",
      "('diff_gps: ', matrix([[  9.0654812129],\n",
      "        [-44.5299875504],\n",
      "        [  0.          ]]))\n"
     ]
    }
   ],
   "source": [
    "#驗證 xy -> gps for point 0\n",
    "compute_xy2gps(0)"
   ]
  },
  {
   "cell_type": "code",
   "execution_count": 16,
   "metadata": {},
   "outputs": [
    {
     "name": "stdout",
     "output_type": "stream",
     "text": [
      "('input xy: ', matrix([[ 63.],\n",
      "        [421.],\n",
      "        [  1.]]))\n",
      "('output_gps: ', matrix([[4.5763514934e+03],\n",
      "        [6.7964020045e+03],\n",
      "        [1.0000000000e+00]]))\n",
      "('diff_gps: ', matrix([[8.2515178083],\n",
      "        [6.2408716584],\n",
      "        [0.          ]]))\n"
     ]
    }
   ],
   "source": [
    "#驗證 xy -> gps for point 1\n",
    "compute_xy2gps(1)"
   ]
  },
  {
   "cell_type": "code",
   "execution_count": 17,
   "metadata": {},
   "outputs": [
    {
     "name": "stdout",
     "output_type": "stream",
     "text": [
      "('input xy: ', matrix([[461.],\n",
      "        [588.],\n",
      "        [  1.]]))\n",
      "('output_gps: ', matrix([[3.9193277824e+03],\n",
      "        [6.4631905555e+03],\n",
      "        [1.0000000000e+00]]))\n",
      "('diff_gps: ', matrix([[28.3365714304],\n",
      "        [16.3521766275],\n",
      "        [ 0.          ]]))\n"
     ]
    }
   ],
   "source": [
    "#驗證 xy -> gps for point 2\n",
    "compute_xy2gps(2)"
   ]
  },
  {
   "cell_type": "code",
   "execution_count": 18,
   "metadata": {},
   "outputs": [
    {
     "name": "stdout",
     "output_type": "stream",
     "text": [
      "('input xy: ', matrix([[489.],\n",
      "        [755.],\n",
      "        [  1.]]))\n",
      "('output_gps: ', matrix([[3.7801194040e+03],\n",
      "        [6.2510047408e+03],\n",
      "        [1.0000000000e+00]]))\n",
      "('diff_gps: ', matrix([[-15.5043752972],\n",
      "        [ -5.098774783 ],\n",
      "        [  0.          ]]))\n"
     ]
    }
   ],
   "source": [
    "#驗證 xy -> gps for point 3\n",
    "compute_xy2gps(3)"
   ]
  },
  {
   "cell_type": "code",
   "execution_count": 19,
   "metadata": {},
   "outputs": [
    {
     "name": "stdout",
     "output_type": "stream",
     "text": [
      "('input xy: ', matrix([[1.618e+03],\n",
      "        [5.550e+02],\n",
      "        [1.000e+00]]))\n",
      "('output_gps: ', matrix([[3.1262070015e+03],\n",
      "        [6.8932324041e+03],\n",
      "        [1.0000000000e+00]]))\n",
      "('diff_gps: ', matrix([[  7.6919868146],\n",
      "        [-11.3696466721],\n",
      "        [  0.          ]]))\n"
     ]
    }
   ],
   "source": [
    "#驗證 xy -> gps for point 4\n",
    "compute_xy2gps(4)"
   ]
  },
  {
   "cell_type": "code",
   "execution_count": 20,
   "metadata": {},
   "outputs": [
    {
     "name": "stdout",
     "output_type": "stream",
     "text": [
      "('input xy: ', matrix([[1.252e+03],\n",
      "        [4.060e+02],\n",
      "        [1.000e+00]]))\n",
      "('output_gps: ', matrix([[3.3593231075e+03],\n",
      "        [7.5891534090e+03],\n",
      "        [1.0000000000e+00]]))\n",
      "('diff_gps: ', matrix([[-26.2207157098],\n",
      "        [ 74.1997956955],\n",
      "        [  0.          ]]))\n"
     ]
    }
   ],
   "source": [
    "#驗證 xy -> gps for point 5\n",
    "compute_xy2gps(5)"
   ]
  },
  {
   "cell_type": "code",
   "execution_count": 21,
   "metadata": {},
   "outputs": [
    {
     "data": {
      "text/plain": [
       "True"
      ]
     },
     "execution_count": 21,
     "metadata": {},
     "output_type": "execute_result"
    }
   ],
   "source": [
    "img = cv2.imread('1009.jpg', cv2.IMREAD_COLOR)\n",
    "imgReg = cv2.warpPerspective(img, inv_M, (10000, 10000))\n",
    "cv2.imwrite(\"1009_reg.jpg\", imgReg)"
   ]
  }
 ],
 "metadata": {
  "kernelspec": {
   "display_name": "Python 2",
   "language": "python",
   "name": "python2"
  },
  "language_info": {
   "codemirror_mode": {
    "name": "ipython",
    "version": 2
   },
   "file_extension": ".py",
   "mimetype": "text/x-python",
   "name": "python",
   "nbconvert_exporter": "python",
   "pygments_lexer": "ipython2",
   "version": "2.7.12"
  }
 },
 "nbformat": 4,
 "nbformat_minor": 2
}
