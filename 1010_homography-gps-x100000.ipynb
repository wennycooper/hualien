{
 "cells": [
  {
   "cell_type": "code",
   "execution_count": 1,
   "metadata": {},
   "outputs": [],
   "source": [
    "import cv2\n",
    "import numpy as np\n",
    "import datetime\n",
    "np.set_printoptions(formatter={'float': '{: 0.8f}'.format})"
   ]
  },
  {
   "cell_type": "code",
   "execution_count": 2,
   "metadata": {},
   "outputs": [
    {
     "name": "stdout",
     "output_type": "stream",
     "text": [
      "[[ 2390344.056 12153592.722]\n",
      " [ 2390368.083 12153650.361]\n",
      " [ 2390387.389 12153634.472]\n",
      " [ 2390353.583 12153588.083]\n",
      " [ 2390325.667 12153627.833]\n",
      " [ 2390377.194 12153645.972]\n",
      " [ 2390356.778 12153624.333]\n",
      " [ 2390360.417 12153637.861]\n",
      " [ 2390355.778 12153626.361]\n",
      " [ 2390367.083 12153619.194]\n",
      " [ 2390379.306 12153615.306]\n",
      " [ 2390376.639 12153642.389]\n",
      " [ 2390339.194 12153638.639]]\n"
     ]
    }
   ],
   "source": [
    "pts_gps_old = np.array([[2390344.056, 12153592.722], \n",
    "                      [2390368.083, 12153650.361], \n",
    "                      [2390387.389, 12153634.472],\n",
    "                      [2390353.583, 12153588.083],\n",
    "                      [2390325.667, 12153627.833],\n",
    "                      [2390377.194, 12153645.972],\n",
    "                      [2390356.778, 12153624.333],\n",
    "                      [2390360.417, 12153637.861],\n",
    "                      [2390355.778, 12153626.361],\n",
    "                      [2390367.083, 12153619.194],\n",
    "                      [2390379.306, 12153615.306],\n",
    "                      [2390376.639, 12153642.389],\n",
    "                      [2390339.194, 12153638.639]], dtype=np.float128)\n",
    "# pts_gps = (pts_gps_old - np.float64([2390300.0, 12153500.0])) * 100.0\n",
    "pts_gps = pts_gps_old\n",
    "print pts_gps\n",
    "pts_xys = np.array([[876, 364],\n",
    "                      [51, 788],\n",
    "                      [1911, 745],\n",
    "                      [1066, 376],\n",
    "                      [148, 396],\n",
    "                      [910, 958],\n",
    "                      [678, 454],\n",
    "                      [417, 540],\n",
    "                      [615, 456],\n",
    "                      [1077, 475],\n",
    "                      [1554, 503],\n",
    "                      [1036, 809],\n",
    "                      [55, 448]], dtype=np.float128)"
   ]
  },
  {
   "cell_type": "code",
   "execution_count": 3,
   "metadata": {},
   "outputs": [],
   "source": [
    "# input four pairs of the corresponding points, find out perspective transformation matrix M"
   ]
  },
  {
   "cell_type": "code",
   "execution_count": 4,
   "metadata": {},
   "outputs": [],
   "source": [
    "pts1 = np.array([pts_gps[0], pts_gps[1], pts_gps[2], pts_gps[3], pts_gps[4], pts_gps[5], pts_gps[6], pts_gps[7], pts_gps[8], pts_gps[9], pts_gps[10], pts_gps[11], pts_gps[12]], dtype=np.float64)\n",
    "pts2 = np.array([pts_xys[0], pts_xys[1], pts_xys[2], pts_xys[3], pts_xys[4], pts_xys[5], pts_xys[6], pts_xys[7], pts_xys[8], pts_xys[9], pts_xys[10], pts_xys[11], pts_xys[12]], dtype=np.float64)"
   ]
  },
  {
   "cell_type": "code",
   "execution_count": 5,
   "metadata": {},
   "outputs": [
    {
     "name": "stdout",
     "output_type": "stream",
     "text": [
      "[[ 0.00004821 -0.00012468  1400.11503077]\n",
      " [-0.00001332 -0.00001826  253.79214344]\n",
      " [-0.00000006 -0.00000007  1.00000000]]\n",
      "float64\n"
     ]
    }
   ],
   "source": [
    "M, mask = cv2.findHomography(pts1, pts2)\n",
    "print M\n",
    "print M.dtype"
   ]
  },
  {
   "cell_type": "code",
   "execution_count": 6,
   "metadata": {},
   "outputs": [],
   "source": [
    "def compute_gps2xy(idx):\n",
    "    print(\"input %.10f, %.10f \" % (pts_gps[idx, 0], pts_gps[idx, 1]))\n",
    "    expect_result = np.matrix([pts_xys[idx, 0], pts_xys[idx, 1], 1]).T\n",
    "    print(\"input gps: \", np.matrix([pts_gps[idx, 0], pts_gps[idx, 1], 1]).T)\n",
    "    result_pre = np.matrix(M) * np.matrix([pts_gps[idx, 0], pts_gps[idx, 1], 1]).T\n",
    "    result = result_pre / result_pre[2, 0]\n",
    "    print(\"output_xy: \", result)\n",
    "    diff = result - expect_result\n",
    "    print(\"diff_xy: \", diff)"
   ]
  },
  {
   "cell_type": "code",
   "execution_count": 7,
   "metadata": {},
   "outputs": [],
   "source": [
    "#驗證 gps -> xy for point 0\n",
    "#compute_gps2xy(0)"
   ]
  },
  {
   "cell_type": "code",
   "execution_count": 8,
   "metadata": {},
   "outputs": [],
   "source": [
    "#驗證 gps -> xy for point 1\n",
    "#compute_gps2xy(1)"
   ]
  },
  {
   "cell_type": "code",
   "execution_count": 9,
   "metadata": {},
   "outputs": [],
   "source": [
    "#驗證 gps -> xy for point 2\n",
    "#compute_gps2xy(2)"
   ]
  },
  {
   "cell_type": "code",
   "execution_count": 10,
   "metadata": {},
   "outputs": [],
   "source": [
    "#驗證 gps -> xy for point 3\n",
    "#compute_gps2xy(3)"
   ]
  },
  {
   "cell_type": "code",
   "execution_count": 11,
   "metadata": {},
   "outputs": [],
   "source": [
    "#驗證 gps -> xy for point 4\n",
    "#compute_gps2xy(4)"
   ]
  },
  {
   "cell_type": "code",
   "execution_count": 12,
   "metadata": {},
   "outputs": [],
   "source": [
    "#驗證 gps -> xy for point 5\n",
    "#compute_gps2xy(5)"
   ]
  },
  {
   "cell_type": "code",
   "execution_count": 13,
   "metadata": {},
   "outputs": [],
   "source": [
    "#驗證 gps -> xy for point 6\n",
    "#compute_gps2xy(6)"
   ]
  },
  {
   "cell_type": "code",
   "execution_count": 14,
   "metadata": {},
   "outputs": [],
   "source": [
    "#驗證 gps -> xy for point 7\n",
    "#compute_gps2xy(7)"
   ]
  },
  {
   "cell_type": "code",
   "execution_count": 15,
   "metadata": {},
   "outputs": [],
   "source": [
    "#驗證 gps -> xy for point 8\n",
    "#compute_gps2xy(8)"
   ]
  },
  {
   "cell_type": "code",
   "execution_count": 16,
   "metadata": {},
   "outputs": [],
   "source": [
    "#驗證 gps -> xy for point 9\n",
    "#compute_gps2xy(9)"
   ]
  },
  {
   "cell_type": "code",
   "execution_count": 17,
   "metadata": {},
   "outputs": [],
   "source": [
    "#驗證 gps -> xy for point 10\n",
    "#compute_gps2xy(10)"
   ]
  },
  {
   "cell_type": "code",
   "execution_count": 18,
   "metadata": {},
   "outputs": [],
   "source": [
    "#驗證 gps -> xy for point 11\n",
    "#compute_gps2xy(11)"
   ]
  },
  {
   "cell_type": "code",
   "execution_count": 19,
   "metadata": {},
   "outputs": [],
   "source": [
    "#驗證 gps -> xy for point 12\n",
    "#compute_gps2xy(12)"
   ]
  },
  {
   "cell_type": "code",
   "execution_count": 20,
   "metadata": {},
   "outputs": [
    {
     "name": "stdout",
     "output_type": "stream",
     "text": [
      "[[-22645238.08514558  2936054985.30354309 -713441749765.16479492]\n",
      " [-115177315.84607926  14928059211.99946785 -3627362653721.51855469]\n",
      " [-9.47631860  1228.27712534 -298458.14827677]]\n"
     ]
    }
   ],
   "source": [
    "# inverse Transform\n",
    "inv_M = np.linalg.inv(M) \n",
    "print inv_M\n"
   ]
  },
  {
   "cell_type": "code",
   "execution_count": 21,
   "metadata": {},
   "outputs": [],
   "source": [
    "def compute_xy2gps(idx):\n",
    "    expect_result = np.matrix([pts_gps[idx, 0], pts_gps[idx, 1], 1]).T\n",
    "    print(\"input xy: \", np.matrix([pts_xys[idx, 0], pts_xys[idx, 1], 1]).T)\n",
    "    result_pre = np.matrix(inv_M) * np.matrix([pts_xys[idx, 0], pts_xys[idx, 1], 1]).T\n",
    "    result = result_pre / result_pre[2, 0]\n",
    "    print(\"output_gps: \", result)\n",
    "    diff = result - expect_result\n",
    "    print(\"diff_gps: \", diff)"
   ]
  },
  {
   "cell_type": "code",
   "execution_count": 22,
   "metadata": {},
   "outputs": [
    {
     "name": "stdout",
     "output_type": "stream",
     "text": [
      "('input xy: ', matrix([[876.],\n",
      "        [364.],\n",
      "        [  1.]], dtype=float128))\n",
      "('output_gps: ', matrix([[2.39034234e+06],\n",
      "        [1.21535908e+07],\n",
      "        [1.00000000e+00]], dtype=float128))\n",
      "('diff_gps: ', matrix([[-1.71136131],\n",
      "        [-1.9381678 ],\n",
      "        [ 0.        ]], dtype=float128))\n"
     ]
    }
   ],
   "source": [
    "#驗證 xy -> gps for point 0\n",
    "compute_xy2gps(0)"
   ]
  },
  {
   "cell_type": "code",
   "execution_count": 23,
   "metadata": {},
   "outputs": [
    {
     "name": "stdout",
     "output_type": "stream",
     "text": [
      "('input xy: ', matrix([[ 51.],\n",
      "        [788.],\n",
      "        [  1.]], dtype=float128))\n",
      "('output_gps: ', matrix([[2.3903675e+06],\n",
      "        [1.2153650e+07],\n",
      "        [1.0000000e+00]], dtype=float128))\n",
      "('diff_gps: ', matrix([[-0.57869489],\n",
      "        [-0.39571892],\n",
      "        [ 0.        ]], dtype=float128))\n"
     ]
    }
   ],
   "source": [
    "#驗證 xy -> gps for point 1\n",
    "compute_xy2gps(1)"
   ]
  },
  {
   "cell_type": "code",
   "execution_count": 24,
   "metadata": {},
   "outputs": [
    {
     "name": "stdout",
     "output_type": "stream",
     "text": [
      "('input xy: ', matrix([[1.911e+03],\n",
      "        [7.450e+02],\n",
      "        [1.000e+00]], dtype=float128))\n",
      "('output_gps: ', matrix([[2.39038663e+06],\n",
      "        [1.21536324e+07],\n",
      "        [1.00000000e+00]], dtype=float128))\n",
      "('diff_gps: ', matrix([[-0.75793988],\n",
      "        [-2.10927123],\n",
      "        [ 0.        ]], dtype=float128))\n"
     ]
    }
   ],
   "source": [
    "#驗證 xy -> gps for point 2\n",
    "compute_xy2gps(2)"
   ]
  },
  {
   "cell_type": "code",
   "execution_count": 25,
   "metadata": {},
   "outputs": [
    {
     "name": "stdout",
     "output_type": "stream",
     "text": [
      "('input xy: ', matrix([[1.066e+03],\n",
      "        [3.760e+02],\n",
      "        [1.000e+00]], dtype=float128))\n",
      "('output_gps: ', matrix([[2.39035437e+06],\n",
      "        [1.21535897e+07],\n",
      "        [1.00000000e+00]], dtype=float128))\n",
      "('diff_gps: ', matrix([[0.7884057 ],\n",
      "        [1.63485994],\n",
      "        [0.        ]], dtype=float128))\n"
     ]
    }
   ],
   "source": [
    "#驗證 xy -> gps for point 3\n",
    "compute_xy2gps(3)"
   ]
  },
  {
   "cell_type": "code",
   "execution_count": 26,
   "metadata": {},
   "outputs": [
    {
     "name": "stdout",
     "output_type": "stream",
     "text": [
      "('input xy: ', matrix([[148.],\n",
      "        [396.],\n",
      "        [  1.]], dtype=float128))\n",
      "('output_gps: ', matrix([[2.39032629e+06],\n",
      "        [1.21536283e+07],\n",
      "        [1.00000000e+00]], dtype=float128))\n",
      "('diff_gps: ', matrix([[0.61913063],\n",
      "        [0.44415396],\n",
      "        [0.        ]], dtype=float128))\n"
     ]
    }
   ],
   "source": [
    "#驗證 xy -> gps for point 4\n",
    "compute_xy2gps(4)"
   ]
  },
  {
   "cell_type": "code",
   "execution_count": 27,
   "metadata": {},
   "outputs": [
    {
     "name": "stdout",
     "output_type": "stream",
     "text": [
      "('input xy: ', matrix([[910.],\n",
      "        [958.],\n",
      "        [  1.]], dtype=float128))\n",
      "('output_gps: ', matrix([[2.39037823e+06],\n",
      "        [1.21536463e+07],\n",
      "        [1.00000000e+00]], dtype=float128))\n",
      "('diff_gps: ', matrix([[1.03103839],\n",
      "        [0.35678379],\n",
      "        [0.        ]], dtype=float128))\n"
     ]
    }
   ],
   "source": [
    "#驗證 xy -> gps for point 5\n",
    "compute_xy2gps(5)"
   ]
  },
  {
   "cell_type": "code",
   "execution_count": 28,
   "metadata": {},
   "outputs": [
    {
     "name": "stdout",
     "output_type": "stream",
     "text": [
      "('input xy: ', matrix([[678.],\n",
      "        [454.],\n",
      "        [  1.]], dtype=float128))\n",
      "('output_gps: ', matrix([[2.39035590e+06],\n",
      "        [1.21536246e+07],\n",
      "        [1.00000000e+00]], dtype=float128))\n",
      "('diff_gps: ', matrix([[-0.87927895],\n",
      "        [ 0.24246754],\n",
      "        [ 0.        ]], dtype=float128))\n"
     ]
    }
   ],
   "source": [
    "#驗證 xy -> gps for point 6\n",
    "compute_xy2gps(6)"
   ]
  },
  {
   "cell_type": "code",
   "execution_count": 29,
   "metadata": {},
   "outputs": [
    {
     "name": "stdout",
     "output_type": "stream",
     "text": [
      "('input xy: ', matrix([[417.],\n",
      "        [540.],\n",
      "        [  1.]], dtype=float128))\n",
      "('output_gps: ', matrix([[2.39035963e+06],\n",
      "        [1.21536383e+07],\n",
      "        [1.00000000e+00]], dtype=float128))\n",
      "('diff_gps: ', matrix([[-0.7820051 ],\n",
      "        [ 0.40510317],\n",
      "        [ 0.        ]], dtype=float128))\n"
     ]
    }
   ],
   "source": [
    "#驗證 xy -> gps for point 7\n",
    "compute_xy2gps(7)"
   ]
  },
  {
   "cell_type": "code",
   "execution_count": 30,
   "metadata": {},
   "outputs": [
    {
     "name": "stdout",
     "output_type": "stream",
     "text": [
      "('input xy: ', matrix([[615.],\n",
      "        [456.],\n",
      "        [  1.]], dtype=float128))\n",
      "('output_gps: ', matrix([[2.39035457e+06],\n",
      "        [1.21536263e+07],\n",
      "        [1.00000000e+00]], dtype=float128))\n",
      "('diff_gps: ', matrix([[-1.21128895],\n",
      "        [-0.06846704],\n",
      "        [ 0.        ]], dtype=float128))\n"
     ]
    }
   ],
   "source": [
    "#驗證 xy -> gps for point 8\n",
    "compute_xy2gps(8)"
   ]
  },
  {
   "cell_type": "code",
   "execution_count": 31,
   "metadata": {},
   "outputs": [
    {
     "name": "stdout",
     "output_type": "stream",
     "text": [
      "('input xy: ', matrix([[1.077e+03],\n",
      "        [4.750e+02],\n",
      "        [1.000e+00]], dtype=float128))\n",
      "('output_gps: ', matrix([[2.39036810e+06],\n",
      "        [1.21536194e+07],\n",
      "        [1.00000000e+00]], dtype=float128))\n",
      "('diff_gps: ', matrix([[1.02107893],\n",
      "        [0.17731435],\n",
      "        [0.        ]], dtype=float128))\n"
     ]
    }
   ],
   "source": [
    "#驗證 xy -> gps for point 9\n",
    "compute_xy2gps(9)"
   ]
  },
  {
   "cell_type": "code",
   "execution_count": 32,
   "metadata": {},
   "outputs": [
    {
     "name": "stdout",
     "output_type": "stream",
     "text": [
      "('input xy: ', matrix([[1.554e+03],\n",
      "        [5.030e+02],\n",
      "        [1.000e+00]], dtype=float128))\n",
      "('output_gps: ', matrix([[2.39038041e+06],\n",
      "        [1.21536147e+07],\n",
      "        [1.00000000e+00]], dtype=float128))\n",
      "('diff_gps: ', matrix([[ 1.09933413],\n",
      "        [-0.65427282],\n",
      "        [ 0.        ]], dtype=float128))\n"
     ]
    }
   ],
   "source": [
    "#驗證 xy -> gps for point 10\n",
    "compute_xy2gps(10)"
   ]
  },
  {
   "cell_type": "code",
   "execution_count": 33,
   "metadata": {},
   "outputs": [
    {
     "name": "stdout",
     "output_type": "stream",
     "text": [
      "('input xy: ', matrix([[1.036e+03],\n",
      "        [8.090e+02],\n",
      "        [1.000e+00]], dtype=float128))\n",
      "('output_gps: ', matrix([[2.39037771e+06],\n",
      "        [1.21536424e+07],\n",
      "        [1.00000000e+00]], dtype=float128))\n",
      "('diff_gps: ', matrix([[1.06764647],\n",
      "        [0.00926732],\n",
      "        [0.        ]], dtype=float128))\n"
     ]
    }
   ],
   "source": [
    "#驗證 xy -> gps for point 11\n",
    "compute_xy2gps(11)"
   ]
  },
  {
   "cell_type": "code",
   "execution_count": 34,
   "metadata": {},
   "outputs": [
    {
     "name": "stdout",
     "output_type": "stream",
     "text": [
      "('input xy: ', matrix([[ 55.],\n",
      "        [448.],\n",
      "        [  1.]], dtype=float128))\n",
      "('output_gps: ', matrix([[2.39033885e+06],\n",
      "        [1.21536377e+07],\n",
      "        [1.00000000e+00]], dtype=float128))\n",
      "('diff_gps: ', matrix([[-0.3473348],\n",
      "        [-0.8975702],\n",
      "        [ 0.       ]], dtype=float128))\n"
     ]
    }
   ],
   "source": [
    "#驗證 xy -> gps for point 12\n",
    "compute_xy2gps(12)"
   ]
  },
  {
   "cell_type": "code",
   "execution_count": 35,
   "metadata": {},
   "outputs": [],
   "source": [
    "#img = cv2.imread('1010.jpg', cv2.IMREAD_COLOR)\n",
    "#imgReg = cv2.warpPerspective(img, inv_M, (20000, 20000))\n",
    "#cv2.imwrite(\"1010_reg_new.jpg\", imgReg)\n",
    "#cv2.namedWindow(\"1010.jpg\")\n",
    "#cv2.imshow(\"1010.jpg\", img)\n",
    "#cv2.waitKey(0)"
   ]
  },
  {
   "cell_type": "code",
   "execution_count": null,
   "metadata": {},
   "outputs": [],
   "source": []
  }
 ],
 "metadata": {
  "kernelspec": {
   "display_name": "Python 2",
   "language": "python",
   "name": "python2"
  },
  "language_info": {
   "codemirror_mode": {
    "name": "ipython",
    "version": 2
   },
   "file_extension": ".py",
   "mimetype": "text/x-python",
   "name": "python",
   "nbconvert_exporter": "python",
   "pygments_lexer": "ipython2",
   "version": "2.7.12"
  }
 },
 "nbformat": 4,
 "nbformat_minor": 2
}
