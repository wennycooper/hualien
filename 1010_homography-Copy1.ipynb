{
 "cells": [
  {
   "cell_type": "code",
   "execution_count": 1,
   "metadata": {},
   "outputs": [],
   "source": [
    "import cv2\n",
    "import numpy as np\n",
    "import datetime\n",
    "np.set_printoptions(precision=10)"
   ]
  },
  {
   "cell_type": "code",
   "execution_count": 2,
   "metadata": {},
   "outputs": [
    {
     "name": "stdout",
     "output_type": "stream",
     "text": [
      "[[2202.9876708984 4615.7836914062]\n",
      " [3404.6173095703 7514.9536132812]\n",
      " [4367.8283691406 6713.8671875   ]\n",
      " [2679.8248291016 4386.9018554688]\n",
      " [1287.4603271484 6370.5444335938]\n",
      " [3862.3809814453 7286.0717773438]\n",
      " [2841.9494628906 6179.8095703125]\n",
      " [3023.1475830078 6866.455078125 ]\n",
      " [2794.2657470703 6294.2504882812]\n",
      " [3356.93359375   5950.927734375 ]\n",
      " [3967.28515625   5760.1928710938]\n",
      " [3833.7707519531 7095.3369140625]\n",
      " [1964.5690917969 6904.6020507812]]\n"
     ]
    }
   ],
   "source": [
    "pts_gps_old = np.array([[23.90344056, 121.53592722], \n",
    "                      [23.90368083, 121.53650361], \n",
    "                      [23.90387389, 121.53634472],\n",
    "                      [23.90353583, 121.53588083],\n",
    "                      [23.90325667, 121.53627833],\n",
    "                      [23.90377194, 121.53645972],\n",
    "                      [23.90356778, 121.53624333],\n",
    "                      [23.90360417, 121.53637861],\n",
    "                      [23.90355778, 121.53626361],\n",
    "                      [23.90367083, 121.53619194],\n",
    "                      [23.90379306, 121.53615306],\n",
    "                      [23.90376639, 121.53642389],\n",
    "                      [23.90339194, 121.53638639]], dtype=np.float32)\n",
    "pts_gps = (pts_gps_old - np.float32([23.903, 121.535])) * 5000000\n",
    "print pts_gps\n",
    "pts_xys = np.array([[876, 364],\n",
    "                      [51, 788],\n",
    "                      [1911, 745],\n",
    "                      [1066, 376],\n",
    "                      [148, 396],\n",
    "                      [910, 958],\n",
    "                      [678, 454],\n",
    "                      [417, 540],\n",
    "                      [615, 456],\n",
    "                      [1077, 475],\n",
    "                      [1554, 503],\n",
    "                      [1036, 809],\n",
    "                      [55, 448]], dtype=np.float32)"
   ]
  },
  {
   "cell_type": "code",
   "execution_count": 3,
   "metadata": {},
   "outputs": [],
   "source": [
    "# input four pairs of the corresponding points, find out perspective transformation matrix M"
   ]
  },
  {
   "cell_type": "code",
   "execution_count": 4,
   "metadata": {},
   "outputs": [],
   "source": [
    "pts1 = np.array([pts_gps[0], pts_gps[1], pts_gps[2], pts_gps[3], pts_gps[4], pts_gps[5], pts_gps[6], pts_gps[7], pts_gps[8], pts_gps[9], pts_gps[10], pts_gps[11], pts_gps[12]], dtype=np.float32)\n",
    "pts2 = np.array([pts_xys[0], pts_xys[1], pts_xys[2], pts_xys[3], pts_xys[4], pts_xys[5], pts_xys[6], pts_xys[7], pts_xys[8], pts_xys[9], pts_xys[10], pts_xys[11], pts_xys[12]], dtype=np.float32)"
   ]
  },
  {
   "cell_type": "code",
   "execution_count": 5,
   "metadata": {},
   "outputs": [
    {
     "name": "stdout",
     "output_type": "stream",
     "text": [
      "[[ 6.8185309327e-02 -1.5866880821e-01  9.6554595092e+02]\n",
      " [-1.3661926651e-02 -2.4008346097e-02  3.0123488101e+02]\n",
      " [-6.4219450354e-05 -9.2019669024e-05  1.0000000000e+00]]\n"
     ]
    }
   ],
   "source": [
    "M, mask = cv2.findHomography(pts1, pts2)\n",
    "print M"
   ]
  },
  {
   "cell_type": "code",
   "execution_count": 6,
   "metadata": {},
   "outputs": [],
   "source": [
    "def compute_gps2xy(idx):\n",
    "    print(\"input %.10f, %.10f \" % (pts_gps[idx, 0], pts_gps[idx, 1]))\n",
    "    expect_result = np.matrix([pts_xys[idx, 0], pts_xys[idx, 1], 1]).T\n",
    "    print(\"input gps: \", np.matrix([pts_gps[idx, 0], pts_gps[idx, 1], 1]).T)\n",
    "    result_pre = np.matrix(M) * np.matrix([pts_gps[idx, 0], pts_gps[idx, 1], 1]).T\n",
    "    result = result_pre / result_pre[2, 0]\n",
    "    print(\"output_xy: \", result)\n",
    "    diff = result - expect_result\n",
    "    print(\"diff_xy: \", diff)"
   ]
  },
  {
   "cell_type": "code",
   "execution_count": 7,
   "metadata": {},
   "outputs": [],
   "source": [
    "#驗證 gps -> xy for point 0\n",
    "#compute_gps2xy(0)"
   ]
  },
  {
   "cell_type": "code",
   "execution_count": 8,
   "metadata": {},
   "outputs": [],
   "source": [
    "#驗證 gps -> xy for point 1\n",
    "#compute_gps2xy(1)"
   ]
  },
  {
   "cell_type": "code",
   "execution_count": 9,
   "metadata": {},
   "outputs": [],
   "source": [
    "#驗證 gps -> xy for point 2\n",
    "#compute_gps2xy(2)"
   ]
  },
  {
   "cell_type": "code",
   "execution_count": 10,
   "metadata": {},
   "outputs": [],
   "source": [
    "#驗證 gps -> xy for point 3\n",
    "#compute_gps2xy(3)"
   ]
  },
  {
   "cell_type": "code",
   "execution_count": 11,
   "metadata": {},
   "outputs": [],
   "source": [
    "#驗證 gps -> xy for point 4\n",
    "#compute_gps2xy(4)"
   ]
  },
  {
   "cell_type": "code",
   "execution_count": 12,
   "metadata": {},
   "outputs": [],
   "source": [
    "#驗證 gps -> xy for point 5\n",
    "#compute_gps2xy(5)"
   ]
  },
  {
   "cell_type": "code",
   "execution_count": 13,
   "metadata": {},
   "outputs": [],
   "source": [
    "#驗證 gps -> xy for point 6\n",
    "#compute_gps2xy(6)"
   ]
  },
  {
   "cell_type": "code",
   "execution_count": 14,
   "metadata": {},
   "outputs": [],
   "source": [
    "#驗證 gps -> xy for point 7\n",
    "#compute_gps2xy(7)"
   ]
  },
  {
   "cell_type": "code",
   "execution_count": 15,
   "metadata": {},
   "outputs": [],
   "source": [
    "#驗證 gps -> xy for point 8\n",
    "#compute_gps2xy(8)"
   ]
  },
  {
   "cell_type": "code",
   "execution_count": 16,
   "metadata": {},
   "outputs": [],
   "source": [
    "#驗證 gps -> xy for point 9\n",
    "#compute_gps2xy(9)"
   ]
  },
  {
   "cell_type": "code",
   "execution_count": 17,
   "metadata": {},
   "outputs": [],
   "source": [
    "#驗證 gps -> xy for point 10\n",
    "#compute_gps2xy(10)"
   ]
  },
  {
   "cell_type": "code",
   "execution_count": 18,
   "metadata": {},
   "outputs": [],
   "source": [
    "#驗證 gps -> xy for point 11\n",
    "#compute_gps2xy(11)"
   ]
  },
  {
   "cell_type": "code",
   "execution_count": 19,
   "metadata": {},
   "outputs": [],
   "source": [
    "#驗證 gps -> xy for point 12\n",
    "#compute_gps2xy(12)"
   ]
  },
  {
   "cell_type": "code",
   "execution_count": 20,
   "metadata": {},
   "outputs": [
    {
     "name": "stdout",
     "output_type": "stream",
     "text": [
      "[[ 4.2174171097e+00  7.9343416365e+01 -2.7973114601e+04]\n",
      " [-6.4584373374e+00  1.4795115855e+02 -3.8332131621e+04]\n",
      " [-3.2346305750e-04  1.8709807230e-02 -4.3237281091e+00]]\n"
     ]
    }
   ],
   "source": [
    "# inverse Transform\n",
    "inv_M = np.linalg.inv(M) \n",
    "print inv_M\n"
   ]
  },
  {
   "cell_type": "code",
   "execution_count": 21,
   "metadata": {},
   "outputs": [],
   "source": [
    "def compute_xy2gps(idx):\n",
    "    expect_result = np.matrix([pts_gps[idx, 0], pts_gps[idx, 1], 1]).T\n",
    "    print(\"input xy: \", np.matrix([pts_xys[idx, 0], pts_xys[idx, 1], 1]).T)\n",
    "    result_pre = np.matrix(inv_M) * np.matrix([pts_xys[idx, 0], pts_xys[idx, 1], 1]).T\n",
    "    result = result_pre / result_pre[2, 0]\n",
    "    print(\"output_gps: \", result)\n",
    "    diff = result - expect_result\n",
    "    print(\"diff_gps: \", diff)"
   ]
  },
  {
   "cell_type": "code",
   "execution_count": 22,
   "metadata": {},
   "outputs": [
    {
     "name": "stdout",
     "output_type": "stream",
     "text": [
      "('input xy: ', matrix([[876.],\n",
      "        [364.],\n",
      "        [  1.]]))\n",
      "('output_gps: ', matrix([[2.0888536441e+03],\n",
      "        [4.4771716667e+03],\n",
      "        [1.0000000000e+00]]))\n",
      "('diff_gps: ', matrix([[-114.1340267534],\n",
      "        [-138.6120247116],\n",
      "        [   0.          ]]))\n"
     ]
    }
   ],
   "source": [
    "#驗證 xy -> gps for point 0\n",
    "compute_xy2gps(0)"
   ]
  },
  {
   "cell_type": "code",
   "execution_count": 23,
   "metadata": {},
   "outputs": [
    {
     "name": "stdout",
     "output_type": "stream",
     "text": [
      "('input xy: ', matrix([[ 51.],\n",
      "        [788.],\n",
      "        [  1.]]))\n",
      "('output_gps: ', matrix([[3.341751449e+03],\n",
      "        [7.490457244e+03],\n",
      "        [1.000000000e+00]]))\n",
      "('diff_gps: ', matrix([[-62.8658605851],\n",
      "        [-24.49636927  ],\n",
      "        [  0.          ]]))\n"
     ]
    }
   ],
   "source": [
    "#驗證 xy -> gps for point 1\n",
    "compute_xy2gps(1)"
   ]
  },
  {
   "cell_type": "code",
   "execution_count": 24,
   "metadata": {},
   "outputs": [
    {
     "name": "stdout",
     "output_type": "stream",
     "text": [
      "('input xy: ', matrix([[1.911e+03],\n",
      "        [7.450e+02],\n",
      "        [1.000e+00]]))\n",
      "('output_gps: ', matrix([[4.3567271825e+03],\n",
      "        [6.6188509950e+03],\n",
      "        [1.0000000000e+00]]))\n",
      "('diff_gps: ', matrix([[-11.1011866089],\n",
      "        [-95.016192492 ],\n",
      "        [  0.          ]]))\n"
     ]
    }
   ],
   "source": [
    "#驗證 xy -> gps for point 2\n",
    "compute_xy2gps(2)"
   ]
  },
  {
   "cell_type": "code",
   "execution_count": 25,
   "metadata": {},
   "outputs": [
    {
     "name": "stdout",
     "output_type": "stream",
     "text": [
      "('input xy: ', matrix([[1.066e+03],\n",
      "        [3.760e+02],\n",
      "        [1.000e+00]]))\n",
      "('output_gps: ', matrix([[2.6859012939e+03],\n",
      "        [4.4003716768e+03],\n",
      "        [1.0000000000e+00]]))\n",
      "('diff_gps: ', matrix([[ 6.0764648071],\n",
      "        [13.4698212948],\n",
      "        [ 0.          ]]))\n"
     ]
    }
   ],
   "source": [
    "#驗證 xy -> gps for point 3\n",
    "compute_xy2gps(3)"
   ]
  },
  {
   "cell_type": "code",
   "execution_count": 26,
   "metadata": {},
   "outputs": [
    {
     "name": "stdout",
     "output_type": "stream",
     "text": [
      "('input xy: ', matrix([[148.],\n",
      "        [396.],\n",
      "        [  1.]]))\n",
      "('output_gps: ', matrix([[1.3402728453e+03],\n",
      "        [6.3541683373e+03],\n",
      "        [1.0000000000e+00]]))\n",
      "('diff_gps: ', matrix([[ 52.8125181092],\n",
      "        [-16.3760963296],\n",
      "        [  0.          ]]))\n"
     ]
    }
   ],
   "source": [
    "#驗證 xy -> gps for point 4\n",
    "compute_xy2gps(4)"
   ]
  },
  {
   "cell_type": "code",
   "execution_count": 27,
   "metadata": {},
   "outputs": [
    {
     "name": "stdout",
     "output_type": "stream",
     "text": [
      "('input xy: ', matrix([[910.],\n",
      "        [958.],\n",
      "        [  1.]]))\n",
      "('output_gps: ', matrix([[3.8986965265e+03],\n",
      "        [7.3296646022e+03],\n",
      "        [1.0000000000e+00]]))\n",
      "('diff_gps: ', matrix([[36.3155450774],\n",
      "        [43.5928248978],\n",
      "        [ 0.          ]]))\n"
     ]
    }
   ],
   "source": [
    "#驗證 xy -> gps for point 5\n",
    "compute_xy2gps(5)"
   ]
  },
  {
   "cell_type": "code",
   "execution_count": 28,
   "metadata": {},
   "outputs": [
    {
     "name": "stdout",
     "output_type": "stream",
     "text": [
      "('input xy: ', matrix([[678.],\n",
      "        [454.],\n",
      "        [  1.]]))\n",
      "('output_gps: ', matrix([[2.7607207677e+03],\n",
      "        [6.1902136571e+03],\n",
      "        [1.0000000000e+00]]))\n",
      "('diff_gps: ', matrix([[-81.228695202 ],\n",
      "        [ 10.4040867479],\n",
      "        [  0.          ]]))\n"
     ]
    }
   ],
   "source": [
    "#驗證 xy -> gps for point 6\n",
    "compute_xy2gps(6)"
   ]
  },
  {
   "cell_type": "code",
   "execution_count": 29,
   "metadata": {},
   "outputs": [
    {
     "name": "stdout",
     "output_type": "stream",
     "text": [
      "('input xy: ', matrix([[417.],\n",
      "        [540.],\n",
      "        [  1.]]))\n",
      "('output_gps: ', matrix([[2.9463109104e+03],\n",
      "        [6.8858288069e+03],\n",
      "        [1.0000000000e+00]]))\n",
      "('diff_gps: ', matrix([[-76.8366726539],\n",
      "        [ 19.3737287268],\n",
      "        [  0.          ]]))\n"
     ]
    }
   ],
   "source": [
    "#驗證 xy -> gps for point 7\n",
    "compute_xy2gps(7)"
   ]
  },
  {
   "cell_type": "code",
   "execution_count": 30,
   "metadata": {},
   "outputs": [
    {
     "name": "stdout",
     "output_type": "stream",
     "text": [
      "('input xy: ', matrix([[615.],\n",
      "        [456.],\n",
      "        [  1.]]))\n",
      "('output_gps: ', matrix([[2.6942271155e+03],\n",
      "        [6.2762705280e+03],\n",
      "        [1.0000000000e+00]]))\n",
      "('diff_gps: ', matrix([[-100.0386315678],\n",
      "        [ -17.9799602337],\n",
      "        [   0.          ]]))\n"
     ]
    }
   ],
   "source": [
    "#驗證 xy -> gps for point 8\n",
    "compute_xy2gps(8)"
   ]
  },
  {
   "cell_type": "code",
   "execution_count": 31,
   "metadata": {},
   "outputs": [
    {
     "name": "stdout",
     "output_type": "stream",
     "text": [
      "('input xy: ', matrix([[1.077e+03],\n",
      "        [4.750e+02],\n",
      "        [1.000e+00]]))\n",
      "('output_gps: ', matrix([[3.3824344918e+03],\n",
      "        [5.9284869135e+03],\n",
      "        [1.0000000000e+00]]))\n",
      "('diff_gps: ', matrix([[ 25.500898059],\n",
      "        [-22.4408209  ],\n",
      "        [  0.         ]]))\n"
     ]
    }
   ],
   "source": [
    "#驗證 xy -> gps for point 9\n",
    "compute_xy2gps(9)"
   ]
  },
  {
   "cell_type": "code",
   "execution_count": 32,
   "metadata": {},
   "outputs": [
    {
     "name": "stdout",
     "output_type": "stream",
     "text": [
      "('input xy: ', matrix([[1.554e+03],\n",
      "        [5.030e+02],\n",
      "        [1.000e+00]]))\n",
      "('output_gps: ', matrix([[4.0331359854e+03],\n",
      "        [5.6822063567e+03],\n",
      "        [1.0000000000e+00]]))\n",
      "('diff_gps: ', matrix([[ 65.8508291482],\n",
      "        [-77.9865143595],\n",
      "        [  0.          ]]))\n"
     ]
    }
   ],
   "source": [
    "#驗證 xy -> gps for point 10\n",
    "compute_xy2gps(10)"
   ]
  },
  {
   "cell_type": "code",
   "execution_count": 33,
   "metadata": {},
   "outputs": [
    {
     "name": "stdout",
     "output_type": "stream",
     "text": [
      "('input xy: ', matrix([[1.036e+03],\n",
      "        [8.090e+02],\n",
      "        [1.000e+00]]))\n",
      "('output_gps: ', matrix([[3.8735717152e+03],\n",
      "        [7.1267134314e+03],\n",
      "        [1.0000000000e+00]]))\n",
      "('diff_gps: ', matrix([[39.8009632958],\n",
      "        [31.3765173599],\n",
      "        [ 0.          ]]))\n"
     ]
    }
   ],
   "source": [
    "#驗證 xy -> gps for point 11\n",
    "compute_xy2gps(11)"
   ]
  },
  {
   "cell_type": "code",
   "execution_count": 34,
   "metadata": {},
   "outputs": [
    {
     "name": "stdout",
     "output_type": "stream",
     "text": [
      "('input xy: ', matrix([[ 55.],\n",
      "        [448.],\n",
      "        [  1.]]))\n",
      "('output_gps: ', matrix([[1.9316277795e+03],\n",
      "        [6.8295863569e+03],\n",
      "        [1.0000000000e+00]]))\n",
      "('diff_gps: ', matrix([[-32.9413123369],\n",
      "        [-75.0156939113],\n",
      "        [  0.          ]]))\n"
     ]
    }
   ],
   "source": [
    "#驗證 xy -> gps for point 12\n",
    "compute_xy2gps(12)"
   ]
  },
  {
   "cell_type": "code",
   "execution_count": 38,
   "metadata": {},
   "outputs": [
    {
     "data": {
      "text/plain": [
       "True"
      ]
     },
     "execution_count": 38,
     "metadata": {},
     "output_type": "execute_result"
    }
   ],
   "source": [
    "img = cv2.imread('1010.jpg', cv2.IMREAD_COLOR)\n",
    "imgReg = cv2.warpPerspective(img, inv_M, (10000, 10000))\n",
    "cv2.imwrite(\"1010_reg.jpg\", imgReg)\n",
    "#cv2.namedWindow(\"1010.jpg\")\n",
    "#cv2.imshow(\"1010.jpg\", img)\n",
    "#cv2.waitKey(0)"
   ]
  },
  {
   "cell_type": "code",
   "execution_count": null,
   "metadata": {},
   "outputs": [],
   "source": [
    "\n"
   ]
  }
 ],
 "metadata": {
  "kernelspec": {
   "display_name": "Python 2",
   "language": "python",
   "name": "python2"
  },
  "language_info": {
   "codemirror_mode": {
    "name": "ipython",
    "version": 2
   },
   "file_extension": ".py",
   "mimetype": "text/x-python",
   "name": "python",
   "nbconvert_exporter": "python",
   "pygments_lexer": "ipython2",
   "version": "2.7.12"
  }
 },
 "nbformat": 4,
 "nbformat_minor": 2
}
