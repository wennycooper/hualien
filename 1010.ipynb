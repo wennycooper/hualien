{
 "cells": [
  {
   "cell_type": "code",
   "execution_count": 1,
   "metadata": {},
   "outputs": [],
   "source": [
    "import cv2\n",
    "import numpy as np\n",
    "import datetime"
   ]
  },
  {
   "cell_type": "code",
   "execution_count": 2,
   "metadata": {},
   "outputs": [],
   "source": [
    "# input 3 gps + 3 xy points, find out Affine transformation matrix M"
   ]
  },
  {
   "cell_type": "code",
   "execution_count": 3,
   "metadata": {},
   "outputs": [],
   "source": [
    "pts1 = np.float32([[23.90344056, 121.53592722], [23.90368083, 121.53650361], [23.90387389, 121.53634472]])\n",
    "pts2 = np.float32([[876, 364], [51, 788], [1911, 745]])"
   ]
  },
  {
   "cell_type": "code",
   "execution_count": 4,
   "metadata": {},
   "outputs": [
    {
     "name": "stdout",
     "output_type": "stream",
     "text": [
      "[[ 6.30014165e+06 -4.03406397e+06  3.39689519e+08]\n",
      " [ 2.86270797e+05  6.12592078e+05 -8.12944389e+07]]\n",
      "0:00:00.012999\n"
     ]
    }
   ],
   "source": [
    "now = datetime.datetime.now()\n",
    "M = cv2.getAffineTransform(pts1, pts2)\n",
    "diff = datetime.datetime.now() - now   #measure cv2.getAffineTransform() computing time\n",
    "print M\n",
    "print diff"
   ]
  },
  {
   "cell_type": "code",
   "execution_count": null,
   "metadata": {},
   "outputs": [],
   "source": []
  },
  {
   "cell_type": "code",
   "execution_count": 5,
   "metadata": {},
   "outputs": [
    {
     "name": "stdout",
     "output_type": "stream",
     "text": [
      "[[ 1.22170192e-07  8.04519661e-07  2.39030406e+01]\n",
      " [-5.70914309e-08  1.25644706e-06  1.21535519e+02]]\n",
      "0:00:00.000541\n"
     ]
    }
   ],
   "source": [
    "# get invertAffineTransform\n",
    "now = datetime.datetime.now()\n",
    "inv_M = cv2.invertAffineTransform(M)\n",
    "diff = datetime.datetime.now() - now   #measure cv2.invertAffineTransform() computing time\n",
    "print inv_M\n",
    "print diff"
   ]
  },
  {
   "cell_type": "code",
   "execution_count": 6,
   "metadata": {},
   "outputs": [
    {
     "name": "stdout",
     "output_type": "stream",
     "text": [
      "[[-8.45361434e-08]\n",
      " [-4.01152363e-07]]\n"
     ]
    }
   ],
   "source": [
    "# compute feature point 1 from xy to gps and see the difference\n",
    "M2 = np.array([876, 364, 1.0])\n",
    "M2 = M2.reshape(3, 1)\n",
    "result = np.matmul(inv_M, M2)\n",
    "# p = inv_M * p'  \n",
    "diff = result - np.array([23.90344056, 121.53592722]).reshape(2,1)\n",
    "print diff"
   ]
  },
  {
   "cell_type": "code",
   "execution_count": 7,
   "metadata": {},
   "outputs": [
    {
     "name": "stdout",
     "output_type": "stream",
     "text": [
      "[[-2.86084081e-08]\n",
      " [ 3.04283202e-06]]\n"
     ]
    }
   ],
   "source": [
    "# compute feature point 2 from xy to gps and see the difference\n",
    "M2 = np.array([51, 788, 1.0])\n",
    "M2 = M2.reshape(3, 1)\n",
    "result = np.matmul(inv_M, M2)\n",
    "# p = inv_M * p'  \n",
    "diff = result - np.array([23.90368083, 121.53650361]).reshape(2,1)\n",
    "print diff"
   ]
  },
  {
   "cell_type": "code",
   "execution_count": 8,
   "metadata": {},
   "outputs": [
    {
     "name": "stdout",
     "output_type": "stream",
     "text": [
      "[[-4.46396491e-07]\n",
      " [ 1.71554686e-06]]\n"
     ]
    }
   ],
   "source": [
    "# compute feature point 3 from xy to gps and see the difference\n",
    "M2 = np.array([1911, 745, 1.0])\n",
    "M2 = M2.reshape(3, 1)\n",
    "result = np.matmul(inv_M, M2)\n",
    "# p = inv_M * p'  \n",
    "diff = result - np.array([23.90387389, 121.53634472]).reshape(2,1)\n",
    "print diff"
   ]
  },
  {
   "cell_type": "code",
   "execution_count": 9,
   "metadata": {},
   "outputs": [
    {
     "name": "stdout",
     "output_type": "stream",
     "text": [
      "[[-6.24879637e-05]\n",
      " [ 5.02188405e-05]]\n"
     ]
    }
   ],
   "source": [
    "# compute feature point 4 from xy to gps and see the difference\n",
    "M2 = np.array([1066, 376, 1.0])\n",
    "M2 = M2.reshape(3, 1)\n",
    "result = np.matmul(inv_M, M2)\n",
    "# p = inv_M * p'  \n",
    "diff = result - np.array([23.90353583, 121.53588083]).reshape(2,1)\n",
    "print diff"
   ]
  },
  {
   "cell_type": "code",
   "execution_count": 10,
   "metadata": {},
   "outputs": [
    {
     "name": "stdout",
     "output_type": "stream",
     "text": [
      "[[ 0.00012061]\n",
      " [-0.00026974]]\n"
     ]
    }
   ],
   "source": [
    "# compute feature point 5 from xy to gps and see the difference\n",
    "M2 = np.array([148, 396, 1.0])\n",
    "M2 = M2.reshape(3, 1)\n",
    "result = np.matmul(inv_M, M2)\n",
    "# p = inv_M * p'  \n",
    "diff = result - np.array([23.90325667, 121.53627833]).reshape(2,1)\n",
    "print diff"
   ]
  },
  {
   "cell_type": "code",
   "execution_count": 11,
   "metadata": {},
   "outputs": [
    {
     "name": "stdout",
     "output_type": "stream",
     "text": [
      "[[0.00015057]\n",
      " [0.00021149]]\n"
     ]
    }
   ],
   "source": [
    "# compute feature point 6 from xy to gps and see the difference\n",
    "M2 = np.array([910, 958, 1.0])\n",
    "M2 = M2.reshape(3, 1)\n",
    "result = np.matmul(inv_M, M2)\n",
    "# p = inv_M * p'  \n",
    "diff = result - np.array([23.90377194, 121.53645972]).reshape(2,1)\n",
    "print diff"
   ]
  },
  {
   "cell_type": "code",
   "execution_count": 12,
   "metadata": {},
   "outputs": [
    {
     "name": "stdout",
     "output_type": "stream",
     "text": [
      "[[-7.90874647e-05]\n",
      " [-1.92126814e-04]]\n"
     ]
    }
   ],
   "source": [
    "# compute feature point 7 from xy to gps and see the difference\n",
    "M2 = np.array([678, 454, 1.0])\n",
    "M2 = M2.reshape(3, 1)\n",
    "result = np.matmul(inv_M, M2)\n",
    "# p = inv_M * p'  \n",
    "diff = result - np.array([23.90356778, 121.53624333]).reshape(2,1)\n",
    "print diff"
   ]
  },
  {
   "cell_type": "code",
   "execution_count": null,
   "metadata": {},
   "outputs": [],
   "source": []
  }
 ],
 "metadata": {
  "kernelspec": {
   "display_name": "Python 2",
   "language": "python",
   "name": "python2"
  },
  "language_info": {
   "codemirror_mode": {
    "name": "ipython",
    "version": 2
   },
   "file_extension": ".py",
   "mimetype": "text/x-python",
   "name": "python",
   "nbconvert_exporter": "python",
   "pygments_lexer": "ipython2",
   "version": "2.7.12"
  }
 },
 "nbformat": 4,
 "nbformat_minor": 2
}
