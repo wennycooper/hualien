{
 "cells": [
  {
   "cell_type": "code",
   "execution_count": 1,
   "metadata": {},
   "outputs": [],
   "source": [
    "import cv2\n",
    "import numpy as np\n",
    "import datetime\n",
    "np.set_printoptions(precision=10)"
   ]
  },
  {
   "cell_type": "code",
   "execution_count": 2,
   "metadata": {},
   "outputs": [],
   "source": [
    "pts_gps = np.array([[23.90344056, 121.53592722], \n",
    "                      [23.90368083, 121.53650361], \n",
    "                      [23.90387389, 121.53634472],\n",
    "                      [23.90353583, 121.53588083],\n",
    "                      [23.90325667, 121.53627833],\n",
    "                      [23.90377194, 121.53645972],\n",
    "                      [23.90356778, 121.53624333],\n",
    "                      [23.90360417, 121.53637861],\n",
    "                      [23.90355778, 121.53626361],\n",
    "                      [23.90367083, 121.53619194],\n",
    "                      [23.90379306, 121.53615306],\n",
    "                      [23.90376639, 121.53642389],\n",
    "                      [23.90339194, 121.53638639]], dtype=np.float32)\n",
    "pts_xys = np.array([[876, 364],\n",
    "                      [51, 788],\n",
    "                      [1911, 745],\n",
    "                      [1066, 376],\n",
    "                      [148, 396],\n",
    "                      [910, 958],\n",
    "                      [678, 454],\n",
    "                      [417, 540],\n",
    "                      [615, 456],\n",
    "                      [1077, 475],\n",
    "                      [1554, 503],\n",
    "                      [1036, 809],\n",
    "                      [55, 448]], dtype=np.float32)"
   ]
  },
  {
   "cell_type": "code",
   "execution_count": 3,
   "metadata": {},
   "outputs": [],
   "source": [
    "# input four pairs of the corresponding points, find out perspective transformation matrix M"
   ]
  },
  {
   "cell_type": "code",
   "execution_count": 4,
   "metadata": {},
   "outputs": [],
   "source": [
    "pts1 = np.array([pts_gps[0], pts_gps[1], pts_gps[2], pts_gps[3]], dtype=np.float32)\n",
    "pts2 = np.array([pts_xys[0], pts_xys[1], pts_xys[2], pts_xys[3]], dtype=np.float32)"
   ]
  },
  {
   "cell_type": "code",
   "execution_count": 5,
   "metadata": {},
   "outputs": [
    {
     "name": "stdout",
     "output_type": "stream",
     "text": [
      "[[ 6.4763128068e+00 -1.2361256119e+01  1.3475362343e+03]\n",
      " [-3.0607883870e-01 -2.2382773441e+00  2.7934979004e+02]\n",
      " [-3.7027438306e-03 -7.4997184563e-03  1.0000000000e+00]]\n"
     ]
    }
   ],
   "source": [
    "M = cv2.getPerspectiveTransform(pts1, pts2)\n",
    "print M"
   ]
  },
  {
   "cell_type": "code",
   "execution_count": 6,
   "metadata": {},
   "outputs": [],
   "source": [
    "def compute_gps2xy(idx):\n",
    "    print(\"input %.10f, %.10f \" % (pts_gps[idx, 0], pts_gps[idx, 1]))\n",
    "    expect_result = np.matrix([pts_xys[idx, 0], pts_xys[idx, 1], 1]).T\n",
    "    print(\"input gps: \", np.matrix([pts_gps[idx, 0], pts_gps[idx, 1], 1]).T)\n",
    "    result_pre = np.matrix(M) * np.matrix([pts_gps[idx, 0], pts_gps[idx, 1], 1]).T\n",
    "    result = result_pre / result_pre[2, 0]\n",
    "    print(\"output_xy: \", result)\n",
    "    diff = result - expect_result\n",
    "    print(\"diff_xy: \", diff)"
   ]
  },
  {
   "cell_type": "code",
   "execution_count": 7,
   "metadata": {},
   "outputs": [
    {
     "name": "stdout",
     "output_type": "stream",
     "text": [
      "input 23.9034404755, 121.5359268188 \n",
      "('input gps: ', matrix([[ 23.9034404755],\n",
      "        [121.5359268188],\n",
      "        [  1.          ]]))\n",
      "('output_xy: ', matrix([[879.5367380683],\n",
      "        [362.9946064416],\n",
      "        [  1.          ]]))\n",
      "('diff_xy: ', matrix([[ 3.5367380683],\n",
      "        [-1.0053935584],\n",
      "        [ 0.          ]]))\n"
     ]
    }
   ],
   "source": [
    "#驗證 gps -> xy for point 0\n",
    "compute_gps2xy(0)"
   ]
  },
  {
   "cell_type": "code",
   "execution_count": 8,
   "metadata": {},
   "outputs": [
    {
     "name": "stdout",
     "output_type": "stream",
     "text": [
      "input 23.9036808014, 121.5365066528 \n",
      "('input gps: ', matrix([[ 23.9036808014],\n",
      "        [121.5365066528],\n",
      "        [  1.          ]]))\n",
      "('output_xy: ', matrix([[ 50.9959498886],\n",
      "        [800.6493319306],\n",
      "        [  1.          ]]))\n",
      "('diff_xy: ', matrix([[-4.0501114010e-03],\n",
      "        [ 1.2649331931e+01],\n",
      "        [ 0.0000000000e+00]]))\n"
     ]
    }
   ],
   "source": [
    "#驗證 gps -> xy for point 1\n",
    "compute_gps2xy(1)"
   ]
  },
  {
   "cell_type": "code",
   "execution_count": 9,
   "metadata": {},
   "outputs": [
    {
     "name": "stdout",
     "output_type": "stream",
     "text": [
      "input 23.9038734436, 121.5363464355 \n",
      "('input gps: ', matrix([[ 23.9038734436],\n",
      "        [121.5363464355],\n",
      "        [  1.          ]]))\n",
      "('output_xy: ', matrix([[1.9356641598e+03],\n",
      "        [7.4693468900e+02],\n",
      "        [1.0000000000e+00]]))\n",
      "('diff_xy: ', matrix([[24.6641598208],\n",
      "        [ 1.9346889996],\n",
      "        [ 0.          ]]))\n"
     ]
    }
   ],
   "source": [
    "#驗證 gps -> xy for point 2\n",
    "compute_gps2xy(2)"
   ]
  },
  {
   "cell_type": "code",
   "execution_count": 10,
   "metadata": {},
   "outputs": [
    {
     "name": "stdout",
     "output_type": "stream",
     "text": [
      "input 23.9035358429, 121.5358810425 \n",
      "('input gps: ', matrix([[ 23.9035358429],\n",
      "        [121.5358810425],\n",
      "        [  1.          ]]))\n",
      "('output_xy: ', matrix([[1.0646480555e+03],\n",
      "        [3.7492504279e+02],\n",
      "        [1.0000000000e+00]]))\n",
      "('diff_xy: ', matrix([[-1.3519445187],\n",
      "        [-1.0749572068],\n",
      "        [ 0.          ]]))\n"
     ]
    }
   ],
   "source": [
    "#驗證 gps -> xy for point 3\n",
    "compute_gps2xy(3)"
   ]
  },
  {
   "cell_type": "code",
   "execution_count": 11,
   "metadata": {},
   "outputs": [
    {
     "name": "stdout",
     "output_type": "stream",
     "text": [
      "input 23.9032573700, 121.5362777710 \n",
      "('input gps: ', matrix([[ 23.90325737 ],\n",
      "        [121.536277771],\n",
      "        [  1.         ]]))\n",
      "('output_xy: ', matrix([[ 33.0903937311],\n",
      "        [358.5072329339],\n",
      "        [  1.          ]]))\n",
      "('diff_xy: ', matrix([[-114.9096062689],\n",
      "        [ -37.4927670661],\n",
      "        [   0.          ]]))\n"
     ]
    }
   ],
   "source": [
    "#驗證 gps -> xy for point 4\n",
    "compute_gps2xy(4)"
   ]
  },
  {
   "cell_type": "code",
   "execution_count": 12,
   "metadata": {},
   "outputs": [
    {
     "name": "stdout",
     "output_type": "stream",
     "text": [
      "input 23.9037723541, 121.5364608765 \n",
      "('input gps: ', matrix([[ 23.9037723541],\n",
      "        [121.5364608765],\n",
      "        [  1.          ]]))\n",
      "('output_xy: ', matrix([[1.0040375948e+03],\n",
      "        [8.5904169402e+02],\n",
      "        [1.0000000000e+00]]))\n",
      "('diff_xy: ', matrix([[ 94.0375948063],\n",
      "        [-98.9583059794],\n",
      "        [  0.          ]]))\n"
     ]
    }
   ],
   "source": [
    "#驗證 gps -> xy for point 5\n",
    "compute_gps2xy(5)"
   ]
  },
  {
   "cell_type": "code",
   "execution_count": 13,
   "metadata": {},
   "outputs": [
    {
     "name": "stdout",
     "output_type": "stream",
     "text": [
      "input 23.9035682678, 121.5362396240 \n",
      "('input gps: ', matrix([[ 23.9035682678],\n",
      "        [121.536239624 ],\n",
      "        [  1.          ]]))\n",
      "('output_xy: ', matrix([[725.429323897],\n",
      "        [441.23697351 ],\n",
      "        [  1.         ]]))\n",
      "('diff_xy: ', matrix([[ 47.429323897],\n",
      "        [-12.76302649 ],\n",
      "        [  0.         ]]))\n"
     ]
    }
   ],
   "source": [
    "#驗證 gps -> xy for point 6\n",
    "compute_gps2xy(6)"
   ]
  },
  {
   "cell_type": "code",
   "execution_count": 14,
   "metadata": {},
   "outputs": [
    {
     "name": "stdout",
     "output_type": "stream",
     "text": [
      "input 23.9036045074, 121.5363769531 \n",
      "('input gps: ', matrix([[ 23.9036045074],\n",
      "        [121.5363769531],\n",
      "        [  1.          ]]))\n",
      "('output_xy: ', matrix([[474.7225710891],\n",
      "        [520.3673815685],\n",
      "        [  1.          ]]))\n",
      "('diff_xy: ', matrix([[ 57.7225710891],\n",
      "        [-19.6326184315],\n",
      "        [  0.          ]]))\n"
     ]
    }
   ],
   "source": [
    "#驗證 gps -> xy for point 7\n",
    "compute_gps2xy(7)"
   ]
  },
  {
   "cell_type": "code",
   "execution_count": 15,
   "metadata": {},
   "outputs": [
    {
     "name": "stdout",
     "output_type": "stream",
     "text": [
      "input 23.9035587311, 121.5362625122 \n",
      "('input gps: ', matrix([[ 23.9035587311],\n",
      "        [121.5362625122],\n",
      "        [  1.          ]]))\n",
      "('output_xy: ', matrix([[655.0913800526],\n",
      "        [444.6277388433],\n",
      "        [  1.          ]]))\n",
      "('diff_xy: ', matrix([[ 40.0913800526],\n",
      "        [-11.3722611567],\n",
      "        [  0.          ]]))\n"
     ]
    }
   ],
   "source": [
    "#驗證 gps -> xy for point 8\n",
    "compute_gps2xy(8)"
   ]
  },
  {
   "cell_type": "code",
   "execution_count": 16,
   "metadata": {},
   "outputs": [
    {
     "name": "stdout",
     "output_type": "stream",
     "text": [
      "input 23.9036712646, 121.5361938477 \n",
      "('input gps: ', matrix([[ 23.9036712646],\n",
      "        [121.5361938477],\n",
      "        [  1.          ]]))\n",
      "('output_xy: ', matrix([[1.0762912697e+03],\n",
      "        [4.6565638687e+02],\n",
      "        [1.0000000000e+00]]))\n",
      "('diff_xy: ', matrix([[-0.7087302938],\n",
      "        [-9.3436131328],\n",
      "        [ 0.          ]]))\n"
     ]
    }
   ],
   "source": [
    "#驗證 gps -> xy for point 9\n",
    "compute_gps2xy(9)"
   ]
  },
  {
   "cell_type": "code",
   "execution_count": 17,
   "metadata": {},
   "outputs": [
    {
     "name": "stdout",
     "output_type": "stream",
     "text": [
      "input 23.9037933350, 121.5361557007 \n",
      "('input gps: ', matrix([[ 23.903793335 ],\n",
      "        [121.5361557007],\n",
      "        [  1.          ]]))\n",
      "('output_xy: ', matrix([[1.4967178154e+03],\n",
      "        [5.0221483989e+02],\n",
      "        [1.0000000000e+00]]))\n",
      "('diff_xy: ', matrix([[-57.2821845557],\n",
      "        [ -0.7851601149],\n",
      "        [  0.          ]]))\n"
     ]
    }
   ],
   "source": [
    "#驗證 gps -> xy for point 10\n",
    "compute_gps2xy(10)"
   ]
  },
  {
   "cell_type": "code",
   "execution_count": 18,
   "metadata": {},
   "outputs": [
    {
     "name": "stdout",
     "output_type": "stream",
     "text": [
      "input 23.9037666321, 121.5364227295 \n",
      "('input gps: ', matrix([[ 23.9037666321],\n",
      "        [121.5364227295],\n",
      "        [  1.          ]]))\n",
      "('output_xy: ', matrix([[1.0867518339e+03],\n",
      "        [7.4292902224e+02],\n",
      "        [1.0000000000e+00]]))\n",
      "('diff_xy: ', matrix([[ 50.7518338791],\n",
      "        [-66.0709777582],\n",
      "        [  0.          ]]))\n"
     ]
    }
   ],
   "source": [
    "#驗證 gps -> xy for point 11\n",
    "compute_gps2xy(11)"
   ]
  },
  {
   "cell_type": "code",
   "execution_count": 19,
   "metadata": {},
   "outputs": [
    {
     "name": "stdout",
     "output_type": "stream",
     "text": [
      "input 23.9033927917, 121.5363845825 \n",
      "('input gps: ', matrix([[ 23.9033927917],\n",
      "        [121.5363845825],\n",
      "        [  1.          ]]))\n",
      "('output_xy: ', matrix([[-92.2337823183],\n",
      "        [416.889169168 ],\n",
      "        [  1.          ]]))\n",
      "('diff_xy: ', matrix([[-147.2337823183],\n",
      "        [ -31.110830832 ],\n",
      "        [   0.          ]]))\n"
     ]
    }
   ],
   "source": [
    "#驗證 gps -> xy for point 12\n",
    "compute_gps2xy(12)"
   ]
  },
  {
   "cell_type": "code",
   "execution_count": 20,
   "metadata": {},
   "outputs": [
    {
     "name": "stdout",
     "output_type": "stream",
     "text": [
      "[[-2.0763083328e+03  3.2690271077e+04 -6.3341196497e+06]\n",
      " [-1.0557219926e+04  1.6621032613e+05 -3.2204583322e+07]\n",
      " [-8.6864214996e+01  1.3675743500e+03 -2.6497793038e+05]]\n"
     ]
    }
   ],
   "source": [
    "# inverse Transform\n",
    "inv_M = np.linalg.inv(M) \n",
    "print inv_M\n"
   ]
  },
  {
   "cell_type": "code",
   "execution_count": 21,
   "metadata": {},
   "outputs": [],
   "source": [
    "def compute_xy2gps(idx):\n",
    "    expect_result = np.matrix([pts_gps[idx, 0], pts_gps[idx, 1], 1]).T\n",
    "    print(\"input xy: \", np.matrix([pts_xys[idx, 0], pts_xys[idx, 1], 1]).T)\n",
    "    result_pre = np.matrix(inv_M) * np.matrix([pts_xys[idx, 0], pts_xys[idx, 1], 1]).T\n",
    "    result = result_pre / result_pre[2, 0]\n",
    "    print(\"output_gps: \", result)\n",
    "    diff = result - expect_result\n",
    "    print(\"diff_gps: \", diff)"
   ]
  },
  {
   "cell_type": "code",
   "execution_count": 22,
   "metadata": {},
   "outputs": [
    {
     "name": "stdout",
     "output_type": "stream",
     "text": [
      "('input xy: ', matrix([[876.],\n",
      "        [364.],\n",
      "        [  1.]]))\n",
      "('output_gps: ', matrix([[ 23.9034429118],\n",
      "        [121.5359348465],\n",
      "        [  1.          ]]))\n",
      "('diff_gps: ', matrix([[2.4363553024e-06],\n",
      "        [8.0276872012e-06],\n",
      "        [0.0000000000e+00]]))\n"
     ]
    }
   ],
   "source": [
    "#驗證 xy -> gps for point 0\n",
    "compute_xy2gps(0)"
   ]
  },
  {
   "cell_type": "code",
   "execution_count": 23,
   "metadata": {},
   "outputs": [
    {
     "name": "stdout",
     "output_type": "stream",
     "text": [
      "('input xy: ', matrix([[ 51.],\n",
      "        [788.],\n",
      "        [  1.]]))\n",
      "('output_gps: ', matrix([[ 23.9036775098],\n",
      "        [121.5365048209],\n",
      "        [  1.          ]]))\n",
      "('diff_gps: ', matrix([[-3.2916116481e-06],\n",
      "        [-1.8319075679e-06],\n",
      "        [ 0.0000000000e+00]]))\n"
     ]
    }
   ],
   "source": [
    "#驗證 xy -> gps for point 1\n",
    "compute_xy2gps(1)"
   ]
  },
  {
   "cell_type": "code",
   "execution_count": 24,
   "metadata": {},
   "outputs": [
    {
     "name": "stdout",
     "output_type": "stream",
     "text": [
      "('input xy: ', matrix([[1.911e+03],\n",
      "        [7.450e+02],\n",
      "        [1.000e+00]]))\n",
      "('output_gps: ', matrix([[ 23.9038701416],\n",
      "        [121.5363478717],\n",
      "        [  1.          ]]))\n",
      "('diff_gps: ', matrix([[-3.3020144379e-06],\n",
      "        [ 1.4362029646e-06],\n",
      "        [ 0.0000000000e+00]]))\n"
     ]
    }
   ],
   "source": [
    "#驗證 xy -> gps for point 2\n",
    "compute_xy2gps(2)"
   ]
  },
  {
   "cell_type": "code",
   "execution_count": 25,
   "metadata": {},
   "outputs": [
    {
     "name": "stdout",
     "output_type": "stream",
     "text": [
      "('input xy: ', matrix([[1.066e+03],\n",
      "        [3.760e+02],\n",
      "        [1.000e+00]]))\n",
      "('output_gps: ', matrix([[ 23.9035391091],\n",
      "        [121.5358868454],\n",
      "        [  1.          ]]))\n",
      "('diff_gps: ', matrix([[3.2662239917e-06],\n",
      "        [5.8029243490e-06],\n",
      "        [0.0000000000e+00]]))\n"
     ]
    }
   ],
   "source": [
    "#驗證 xy -> gps for point 3\n",
    "compute_xy2gps(3)"
   ]
  },
  {
   "cell_type": "code",
   "execution_count": 26,
   "metadata": {},
   "outputs": [
    {
     "name": "stdout",
     "output_type": "stream",
     "text": [
      "('input xy: ', matrix([[148.],\n",
      "        [396.],\n",
      "        [  1.]]))\n",
      "('output_gps: ', matrix([[ 23.9033823881],\n",
      "        [121.5363099063],\n",
      "        [  1.          ]]))\n",
      "('diff_gps: ', matrix([[1.2501814623e-04],\n",
      "        [3.2135322570e-05],\n",
      "        [0.0000000000e+00]]))\n"
     ]
    }
   ],
   "source": [
    "#驗證 xy -> gps for point 4\n",
    "compute_xy2gps(4)"
   ]
  },
  {
   "cell_type": "code",
   "execution_count": 27,
   "metadata": {},
   "outputs": [
    {
     "name": "stdout",
     "output_type": "stream",
     "text": [
      "('input xy: ', matrix([[910.],\n",
      "        [958.],\n",
      "        [  1.]]))\n",
      "('output_gps: ', matrix([[ 23.9037738632],\n",
      "        [121.5364842077],\n",
      "        [  1.          ]]))\n",
      "('diff_gps: ', matrix([[1.5090320780e-06],\n",
      "        [2.3331241209e-05],\n",
      "        [0.0000000000e+00]]))\n"
     ]
    }
   ],
   "source": [
    "#驗證 xy -> gps for point 5\n",
    "compute_xy2gps(5)"
   ]
  },
  {
   "cell_type": "code",
   "execution_count": 28,
   "metadata": {},
   "outputs": [
    {
     "name": "stdout",
     "output_type": "stream",
     "text": [
      "('input xy: ', matrix([[678.],\n",
      "        [454.],\n",
      "        [  1.]]))\n",
      "('output_gps: ', matrix([[ 23.9035749197],\n",
      "        [121.5362715048],\n",
      "        [  1.          ]]))\n",
      "('diff_gps: ', matrix([[6.6519234174e-06],\n",
      "        [3.1880767821e-05],\n",
      "        [0.0000000000e+00]]))\n"
     ]
    }
   ],
   "source": [
    "#驗證 xy -> gps for point 6\n",
    "compute_xy2gps(6)"
   ]
  },
  {
   "cell_type": "code",
   "execution_count": 29,
   "metadata": {},
   "outputs": [
    {
     "name": "stdout",
     "output_type": "stream",
     "text": [
      "('input xy: ', matrix([[417.],\n",
      "        [540.],\n",
      "        [  1.]]))\n",
      "('output_gps: ', matrix([[ 23.9036107802],\n",
      "        [121.5363978203],\n",
      "        [  1.          ]]))\n",
      "('diff_gps: ', matrix([[6.2727450398e-06],\n",
      "        [2.0867136655e-05],\n",
      "        [0.0000000000e+00]]))\n"
     ]
    }
   ],
   "source": [
    "#驗證 xy -> gps for point 7\n",
    "compute_xy2gps(7)"
   ]
  },
  {
   "cell_type": "code",
   "execution_count": 30,
   "metadata": {},
   "outputs": [
    {
     "name": "stdout",
     "output_type": "stream",
     "text": [
      "('input xy: ', matrix([[615.],\n",
      "        [456.],\n",
      "        [  1.]]))\n",
      "('output_gps: ', matrix([[ 23.9035654942],\n",
      "        [121.5362882309],\n",
      "        [  1.          ]]))\n",
      "('diff_gps: ', matrix([[6.7630979643e-06],\n",
      "        [2.5718711399e-05],\n",
      "        [0.0000000000e+00]]))\n"
     ]
    }
   ],
   "source": [
    "#驗證 xy -> gps for point 8\n",
    "compute_xy2gps(8)"
   ]
  },
  {
   "cell_type": "code",
   "execution_count": 31,
   "metadata": {},
   "outputs": [
    {
     "name": "stdout",
     "output_type": "stream",
     "text": [
      "('input xy: ', matrix([[1.077e+03],\n",
      "        [4.750e+02],\n",
      "        [1.000e+00]]))\n",
      "('output_gps: ', matrix([[ 23.9036785946],\n",
      "        [121.5362111572],\n",
      "        [  1.          ]]))\n",
      "('diff_gps: ', matrix([[7.3299170786e-06],\n",
      "        [1.7309588685e-05],\n",
      "        [0.0000000000e+00]]))\n"
     ]
    }
   ],
   "source": [
    "#驗證 xy -> gps for point 9\n",
    "compute_xy2gps(9)"
   ]
  },
  {
   "cell_type": "code",
   "execution_count": 32,
   "metadata": {},
   "outputs": [
    {
     "name": "stdout",
     "output_type": "stream",
     "text": [
      "('input xy: ', matrix([[1.554e+03],\n",
      "        [5.030e+02],\n",
      "        [1.000e+00]]))\n",
      "('output_gps: ', matrix([[ 23.9038085912],\n",
      "        [121.5361419763],\n",
      "        [  1.          ]]))\n",
      "('diff_gps: ', matrix([[ 1.5256214034e-05],\n",
      "        [-1.3724368102e-05],\n",
      "        [ 0.0000000000e+00]]))\n"
     ]
    }
   ],
   "source": [
    "#驗證 xy -> gps for point 10\n",
    "compute_xy2gps(10)"
   ]
  },
  {
   "cell_type": "code",
   "execution_count": 33,
   "metadata": {},
   "outputs": [
    {
     "name": "stdout",
     "output_type": "stream",
     "text": [
      "('input xy: ', matrix([[1.036e+03],\n",
      "        [8.090e+02],\n",
      "        [1.000e+00]]))\n",
      "('output_gps: ', matrix([[ 23.9037698357],\n",
      "        [121.536446758 ],\n",
      "        [  1.          ]]))\n",
      "('diff_gps: ', matrix([[3.2036213398e-06],\n",
      "        [2.4028479700e-05],\n",
      "        [0.0000000000e+00]]))\n"
     ]
    }
   ],
   "source": [
    "#驗證 xy -> gps for point 11\n",
    "compute_xy2gps(11)"
   ]
  },
  {
   "cell_type": "code",
   "execution_count": 34,
   "metadata": {},
   "outputs": [
    {
     "name": "stdout",
     "output_type": "stream",
     "text": [
      "('input xy: ', matrix([[ 55.],\n",
      "        [448.],\n",
      "        [  1.]]))\n",
      "('output_gps: ', matrix([[ 23.9034652627],\n",
      "        [121.53638575  ],\n",
      "        [  1.          ]]))\n",
      "('diff_gps: ', matrix([[7.2470993079e-05],\n",
      "        [1.1674587768e-06],\n",
      "        [0.0000000000e+00]]))\n"
     ]
    }
   ],
   "source": [
    "#驗證 xy -> gps for point 12\n",
    "compute_xy2gps(12)"
   ]
  },
  {
   "cell_type": "code",
   "execution_count": null,
   "metadata": {},
   "outputs": [],
   "source": []
  }
 ],
 "metadata": {
  "kernelspec": {
   "display_name": "Python 2",
   "language": "python",
   "name": "python2"
  },
  "language_info": {
   "codemirror_mode": {
    "name": "ipython",
    "version": 2
   },
   "file_extension": ".py",
   "mimetype": "text/x-python",
   "name": "python",
   "nbconvert_exporter": "python",
   "pygments_lexer": "ipython2",
   "version": "2.7.12"
  }
 },
 "nbformat": 4,
 "nbformat_minor": 2
}
