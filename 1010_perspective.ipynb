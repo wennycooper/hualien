{
 "cells": [
  {
   "cell_type": "code",
   "execution_count": 1,
   "metadata": {},
   "outputs": [],
   "source": [
    "import cv2\n",
    "import numpy as np\n",
    "import datetime\n",
    "np.set_printoptions(formatter={'float': '{: 0.8f}'.format})"
   ]
  },
  {
   "cell_type": "code",
   "execution_count": 2,
   "metadata": {},
   "outputs": [],
   "source": [
    "pts_gps = np.array([[23.90344056, 121.53592722], \n",
    "                      [23.90368083, 121.53650361], \n",
    "                      [23.90387389, 121.53634472],\n",
    "                      [23.90353583, 121.53588083],\n",
    "                      [23.90325667, 121.53627833],\n",
    "                      [23.90377194, 121.53645972],\n",
    "                      [23.90356778, 121.53624333],\n",
    "                      [23.90360417, 121.53637861],\n",
    "                      [23.90355778, 121.53626361],\n",
    "                      [23.90367083, 121.53619194],\n",
    "                      [23.90379306, 121.53615306],\n",
    "                      [23.90376639, 121.53642389],\n",
    "                      [23.90339194, 121.53638639]], dtype=np.float128)\n",
    "pts_xys = np.array([[876, 364],\n",
    "                      [51, 788],\n",
    "                      [1911, 745],\n",
    "                      [1066, 376],\n",
    "                      [148, 396],\n",
    "                      [910, 958],\n",
    "                      [678, 454],\n",
    "                      [417, 540],\n",
    "                      [615, 456],\n",
    "                      [1077, 475],\n",
    "                      [1554, 503],\n",
    "                      [1036, 809],\n",
    "                      [55, 448]], dtype=np.float128)"
   ]
  },
  {
   "cell_type": "code",
   "execution_count": 3,
   "metadata": {},
   "outputs": [],
   "source": [
    "# input four pairs of the corresponding points, find out perspective transformation matrix M"
   ]
  },
  {
   "cell_type": "code",
   "execution_count": 4,
   "metadata": {},
   "outputs": [],
   "source": [
    "pts1 = np.array([pts_gps[0], pts_gps[1], pts_gps[2], pts_gps[3]], dtype=np.float32)\n",
    "pts2 = np.array([pts_xys[0], pts_xys[1], pts_xys[2], pts_xys[3]], dtype=np.float32)"
   ]
  },
  {
   "cell_type": "code",
   "execution_count": 5,
   "metadata": {},
   "outputs": [
    {
     "name": "stdout",
     "output_type": "stream",
     "text": [
      "[[ 6.47631281 -12.36125612  1347.53623427]\n",
      " [-0.30607884 -2.23827734  279.34979004]\n",
      " [-0.00370274 -0.00749972  1.00000000]]\n"
     ]
    }
   ],
   "source": [
    "M = cv2.getPerspectiveTransform(pts1, pts2)\n",
    "print M"
   ]
  },
  {
   "cell_type": "code",
   "execution_count": 6,
   "metadata": {},
   "outputs": [],
   "source": [
    "def compute_gps2xy(idx):\n",
    "    print(\"input %.10f, %.10f \" % (pts_gps[idx, 0], pts_gps[idx, 1]))\n",
    "    expect_result = np.matrix([pts_xys[idx, 0], pts_xys[idx, 1], 1]).T\n",
    "    print(\"input gps: \", np.matrix([pts_gps[idx, 0], pts_gps[idx, 1], 1]).T)\n",
    "    result_pre = np.matrix(M) * np.matrix([pts_gps[idx, 0], pts_gps[idx, 1], 1]).T\n",
    "    result = result_pre / result_pre[2, 0]\n",
    "    print(\"output_xy: \", result)\n",
    "    diff = result - expect_result\n",
    "    print(\"diff_xy: \", diff)"
   ]
  },
  {
   "cell_type": "code",
   "execution_count": 7,
   "metadata": {},
   "outputs": [
    {
     "name": "stdout",
     "output_type": "stream",
     "text": [
      "input 23.9034405600, 121.5359272200 \n",
      "('input gps: ', matrix([[ 23.90344056],\n",
      "        [121.53592722],\n",
      "        [  1.        ]], dtype=float128))\n",
      "('output_xy: ', matrix([[879.30562791],\n",
      "        [363.03834175],\n",
      "        [  1.        ]], dtype=float128))\n",
      "('diff_xy: ', matrix([[ 3.30562791],\n",
      "        [-0.96165825],\n",
      "        [ 0.        ]], dtype=float128))\n"
     ]
    }
   ],
   "source": [
    "#驗證 gps -> xy for point 0\n",
    "compute_gps2xy(0)"
   ]
  },
  {
   "cell_type": "code",
   "execution_count": 8,
   "metadata": {},
   "outputs": [
    {
     "name": "stdout",
     "output_type": "stream",
     "text": [
      "input 23.9036808300, 121.5365036100 \n",
      "('input gps: ', matrix([[ 23.90368083],\n",
      "        [121.53650361],\n",
      "        [  1.        ]], dtype=float128))\n",
      "('output_xy: ', matrix([[ 80.68710073],\n",
      "        [791.42407274],\n",
      "        [  1.        ]], dtype=float128))\n",
      "('diff_xy: ', matrix([[29.68710073],\n",
      "        [ 3.42407274],\n",
      "        [ 0.        ]], dtype=float128))\n"
     ]
    }
   ],
   "source": [
    "#驗證 gps -> xy for point 1\n",
    "compute_gps2xy(1)"
   ]
  },
  {
   "cell_type": "code",
   "execution_count": 9,
   "metadata": {},
   "outputs": [
    {
     "name": "stdout",
     "output_type": "stream",
     "text": [
      "input 23.9038738900, 121.5363447200 \n",
      "('input gps: ', matrix([[ 23.90387389],\n",
      "        [121.53634472],\n",
      "        [  1.        ]], dtype=float128))\n",
      "('output_xy: ', matrix([[1.93706248e+03],\n",
      "        [7.44203656e+02],\n",
      "        [1.00000000e+00]], dtype=float128))\n",
      "('diff_xy: ', matrix([[26.06248005],\n",
      "        [-0.79634437],\n",
      "        [ 0.        ]], dtype=float128))\n"
     ]
    }
   ],
   "source": [
    "#驗證 gps -> xy for point 2\n",
    "compute_gps2xy(2)"
   ]
  },
  {
   "cell_type": "code",
   "execution_count": 10,
   "metadata": {},
   "outputs": [
    {
     "name": "stdout",
     "output_type": "stream",
     "text": [
      "input 23.9035358300, 121.5358808300 \n",
      "('input gps: ', matrix([[ 23.90353583],\n",
      "        [121.53588083],\n",
      "        [  1.        ]], dtype=float128))\n",
      "('output_xy: ', matrix([[1.06477157e+03],\n",
      "        [3.74903957e+02],\n",
      "        [1.00000000e+00]], dtype=float128))\n",
      "('diff_xy: ', matrix([[-1.22843334],\n",
      "        [-1.09604266],\n",
      "        [ 0.        ]], dtype=float128))\n"
     ]
    }
   ],
   "source": [
    "#驗證 gps -> xy for point 3\n",
    "compute_gps2xy(3)"
   ]
  },
  {
   "cell_type": "code",
   "execution_count": 11,
   "metadata": {},
   "outputs": [
    {
     "name": "stdout",
     "output_type": "stream",
     "text": [
      "input 23.9032566700, 121.5362783300 \n",
      "('input gps: ', matrix([[ 23.90325667],\n",
      "        [121.53627833],\n",
      "        [  1.        ]], dtype=float128))\n",
      "('output_xy: ', matrix([[ 30.55588672],\n",
      "        [358.40417146],\n",
      "        [  1.        ]], dtype=float128))\n",
      "('diff_xy: ', matrix([[-117.44411328],\n",
      "        [ -37.59582854],\n",
      "        [   0.        ]], dtype=float128))\n"
     ]
    }
   ],
   "source": [
    "#驗證 gps -> xy for point 4\n",
    "compute_gps2xy(4)"
   ]
  },
  {
   "cell_type": "code",
   "execution_count": 12,
   "metadata": {},
   "outputs": [
    {
     "name": "stdout",
     "output_type": "stream",
     "text": [
      "input 23.9037719400, 121.5364597200 \n",
      "('input gps: ', matrix([[ 23.90377194],\n",
      "        [121.53645972],\n",
      "        [  1.        ]], dtype=float128))\n",
      "('output_xy: ', matrix([[1.00515158e+03],\n",
      "        [8.54104201e+02],\n",
      "        [1.00000000e+00]], dtype=float128))\n",
      "('diff_xy: ', matrix([[  95.15157869],\n",
      "        [-103.89579876],\n",
      "        [   0.        ]], dtype=float128))\n"
     ]
    }
   ],
   "source": [
    "#驗證 gps -> xy for point 5\n",
    "compute_gps2xy(5)"
   ]
  },
  {
   "cell_type": "code",
   "execution_count": 13,
   "metadata": {},
   "outputs": [
    {
     "name": "stdout",
     "output_type": "stream",
     "text": [
      "input 23.9035677800, 121.5362433300 \n",
      "('input gps: ', matrix([[ 23.90356778],\n",
      "        [121.53624333],\n",
      "        [  1.        ]], dtype=float128))\n",
      "('output_xy: ', matrix([[717.07411723],\n",
      "        [442.15826704],\n",
      "        [  1.        ]], dtype=float128))\n",
      "('diff_xy: ', matrix([[ 39.07411723],\n",
      "        [-11.84173296],\n",
      "        [  0.        ]], dtype=float128))\n"
     ]
    }
   ],
   "source": [
    "#驗證 gps -> xy for point 6\n",
    "compute_gps2xy(6)"
   ]
  },
  {
   "cell_type": "code",
   "execution_count": 14,
   "metadata": {},
   "outputs": [
    {
     "name": "stdout",
     "output_type": "stream",
     "text": [
      "input 23.9036041700, 121.5363786100 \n",
      "('input gps: ', matrix([[ 23.90360417],\n",
      "        [121.53637861],\n",
      "        [  1.        ]], dtype=float128))\n",
      "('output_xy: ', matrix([[467.65205221],\n",
      "        [521.26773309],\n",
      "        [  1.        ]], dtype=float128))\n",
      "('diff_xy: ', matrix([[ 50.65205221],\n",
      "        [-18.73226691],\n",
      "        [  0.        ]], dtype=float128))\n"
     ]
    }
   ],
   "source": [
    "#驗證 gps -> xy for point 7\n",
    "compute_gps2xy(7)"
   ]
  },
  {
   "cell_type": "code",
   "execution_count": 15,
   "metadata": {},
   "outputs": [
    {
     "name": "stdout",
     "output_type": "stream",
     "text": [
      "input 23.9035577800, 121.5362636100 \n",
      "('input gps: ', matrix([[ 23.90355778],\n",
      "        [121.53626361],\n",
      "        [  1.        ]], dtype=float128))\n",
      "('output_xy: ', matrix([[650.32203446],\n",
      "        [444.60734097],\n",
      "        [  1.        ]], dtype=float128))\n",
      "('diff_xy: ', matrix([[ 35.32203446],\n",
      "        [-11.39265903],\n",
      "        [  0.        ]], dtype=float128))\n"
     ]
    }
   ],
   "source": [
    "#驗證 gps -> xy for point 8\n",
    "compute_gps2xy(8)"
   ]
  },
  {
   "cell_type": "code",
   "execution_count": 16,
   "metadata": {},
   "outputs": [
    {
     "name": "stdout",
     "output_type": "stream",
     "text": [
      "input 23.9036708300, 121.5361919400 \n",
      "('input gps: ', matrix([[ 23.90367083],\n",
      "        [121.53619194],\n",
      "        [  1.        ]], dtype=float128))\n",
      "('output_xy: ', matrix([[1.07729877e+03],\n",
      "        [4.64822631e+02],\n",
      "        [1.00000000e+00]], dtype=float128))\n",
      "('diff_xy: ', matrix([[  0.29876613],\n",
      "        [-10.17736925],\n",
      "        [  0.        ]], dtype=float128))\n"
     ]
    }
   ],
   "source": [
    "#驗證 gps -> xy for point 9\n",
    "compute_gps2xy(9)"
   ]
  },
  {
   "cell_type": "code",
   "execution_count": 17,
   "metadata": {},
   "outputs": [
    {
     "name": "stdout",
     "output_type": "stream",
     "text": [
      "input 23.9037930600, 121.5361530600 \n",
      "('input gps: ', matrix([[ 23.90379306],\n",
      "        [121.53615306],\n",
      "        [  1.        ]], dtype=float128))\n",
      "('output_xy: ', matrix([[1.49662965e+03],\n",
      "        [5.00920392e+02],\n",
      "        [1.00000000e+00]], dtype=float128))\n",
      "('diff_xy: ', matrix([[-57.37035355],\n",
      "        [ -2.07960818],\n",
      "        [  0.        ]], dtype=float128))\n"
     ]
    }
   ],
   "source": [
    "#驗證 gps -> xy for point 10\n",
    "compute_gps2xy(10)"
   ]
  },
  {
   "cell_type": "code",
   "execution_count": 18,
   "metadata": {},
   "outputs": [
    {
     "name": "stdout",
     "output_type": "stream",
     "text": [
      "input 23.9037663900, 121.5364238900 \n",
      "('input gps: ', matrix([[ 23.90376639],\n",
      "        [121.53642389],\n",
      "        [  1.        ]], dtype=float128))\n",
      "('output_xy: ', matrix([[1.08184876e+03],\n",
      "        [7.45091694e+02],\n",
      "        [1.00000000e+00]], dtype=float128))\n",
      "('diff_xy: ', matrix([[ 45.84875861],\n",
      "        [-63.90830575],\n",
      "        [  0.        ]], dtype=float128))\n"
     ]
    }
   ],
   "source": [
    "#驗證 gps -> xy for point 11\n",
    "compute_gps2xy(11)"
   ]
  },
  {
   "cell_type": "code",
   "execution_count": 19,
   "metadata": {},
   "outputs": [
    {
     "name": "stdout",
     "output_type": "stream",
     "text": [
      "input 23.9033919400, 121.5363863900 \n",
      "('input gps: ', matrix([[ 23.90339194],\n",
      "        [121.53638639],\n",
      "        [  1.        ]], dtype=float128))\n",
      "('output_xy: ', matrix([[-101.28804225],\n",
      "        [ 417.06242702],\n",
      "        [   1.        ]], dtype=float128))\n",
      "('diff_xy: ', matrix([[-156.28804225],\n",
      "        [ -30.93757298],\n",
      "        [   0.        ]], dtype=float128))\n"
     ]
    }
   ],
   "source": [
    "#驗證 gps -> xy for point 12\n",
    "compute_gps2xy(12)"
   ]
  },
  {
   "cell_type": "code",
   "execution_count": 20,
   "metadata": {},
   "outputs": [
    {
     "name": "stdout",
     "output_type": "stream",
     "text": [
      "[[-2076.30833281  32690.27107736 -6334119.64969420]\n",
      " [-10557.21992599  166210.32612903 -32204583.32249242]\n",
      " [-86.86421500  1367.57435005 -264977.93037553]]\n"
     ]
    }
   ],
   "source": [
    "# inverse Transform\n",
    "inv_M = np.linalg.inv(M) \n",
    "print inv_M\n"
   ]
  },
  {
   "cell_type": "code",
   "execution_count": 21,
   "metadata": {},
   "outputs": [],
   "source": [
    "def compute_xy2gps(idx):\n",
    "    expect_result = np.matrix([pts_gps[idx, 0], pts_gps[idx, 1], 1]).T\n",
    "    print(\"input xy: \", np.matrix([pts_xys[idx, 0], pts_xys[idx, 1], 1]).T)\n",
    "    result_pre = np.matrix(inv_M) * np.matrix([pts_xys[idx, 0], pts_xys[idx, 1], 1]).T\n",
    "    result = result_pre / result_pre[2, 0]\n",
    "    print(\"output_gps: \", result)\n",
    "    diff = result - expect_result\n",
    "    print(\"diff_gps: \", diff)"
   ]
  },
  {
   "cell_type": "code",
   "execution_count": 22,
   "metadata": {},
   "outputs": [
    {
     "name": "stdout",
     "output_type": "stream",
     "text": [
      "('input xy: ', matrix([[876.],\n",
      "        [364.],\n",
      "        [  1.]], dtype=float128))\n",
      "('output_gps: ', matrix([[ 23.90344291],\n",
      "        [121.53593485],\n",
      "        [  1.        ]], dtype=float128))\n",
      "('diff_gps: ', matrix([[2.35181918e-06],\n",
      "        [7.62653488e-06],\n",
      "        [0.00000000e+00]], dtype=float128))\n"
     ]
    }
   ],
   "source": [
    "#驗證 xy -> gps for point 0\n",
    "compute_xy2gps(0)"
   ]
  },
  {
   "cell_type": "code",
   "execution_count": 23,
   "metadata": {},
   "outputs": [
    {
     "name": "stdout",
     "output_type": "stream",
     "text": [
      "('input xy: ', matrix([[ 51.],\n",
      "        [788.],\n",
      "        [  1.]], dtype=float128))\n",
      "('output_gps: ', matrix([[ 23.90367751],\n",
      "        [121.53650482],\n",
      "        [  1.        ]], dtype=float128))\n",
      "('diff_gps: ', matrix([[-3.32022005e-06],\n",
      "        [ 1.21092447e-06],\n",
      "        [ 0.00000000e+00]], dtype=float128))\n"
     ]
    }
   ],
   "source": [
    "#驗證 xy -> gps for point 1\n",
    "compute_xy2gps(1)"
   ]
  },
  {
   "cell_type": "code",
   "execution_count": 24,
   "metadata": {},
   "outputs": [
    {
     "name": "stdout",
     "output_type": "stream",
     "text": [
      "('input xy: ', matrix([[1.911e+03],\n",
      "        [7.450e+02],\n",
      "        [1.000e+00]], dtype=float128))\n",
      "('output_gps: ', matrix([[ 23.90387014],\n",
      "        [121.53634787],\n",
      "        [  1.        ]], dtype=float128))\n",
      "('diff_gps: ', matrix([[-3.74841092e-06],\n",
      "        [ 3.15174983e-06],\n",
      "        [ 0.00000000e+00]], dtype=float128))\n"
     ]
    }
   ],
   "source": [
    "#驗證 xy -> gps for point 2\n",
    "compute_xy2gps(2)"
   ]
  },
  {
   "cell_type": "code",
   "execution_count": 25,
   "metadata": {},
   "outputs": [
    {
     "name": "stdout",
     "output_type": "stream",
     "text": [
      "('input xy: ', matrix([[1.066e+03],\n",
      "        [3.760e+02],\n",
      "        [1.000e+00]], dtype=float128))\n",
      "('output_gps: ', matrix([[ 23.90353911],\n",
      "        [121.53588685],\n",
      "        [  1.        ]], dtype=float128))\n",
      "('diff_gps: ', matrix([[3.27911950e-06],\n",
      "        [6.01540478e-06],\n",
      "        [0.00000000e+00]], dtype=float128))\n"
     ]
    }
   ],
   "source": [
    "#驗證 xy -> gps for point 3\n",
    "compute_xy2gps(3)"
   ]
  },
  {
   "cell_type": "code",
   "execution_count": 26,
   "metadata": {},
   "outputs": [
    {
     "name": "stdout",
     "output_type": "stream",
     "text": [
      "('input xy: ', matrix([[148.],\n",
      "        [396.],\n",
      "        [  1.]], dtype=float128))\n",
      "('output_gps: ', matrix([[ 23.90338239],\n",
      "        [121.53630991],\n",
      "        [  1.        ]], dtype=float128))\n",
      "('diff_gps: ', matrix([[1.25718141e-04],\n",
      "        [3.15763187e-05],\n",
      "        [0.00000000e+00]], dtype=float128))\n"
     ]
    }
   ],
   "source": [
    "#驗證 xy -> gps for point 4\n",
    "compute_xy2gps(4)"
   ]
  },
  {
   "cell_type": "code",
   "execution_count": 27,
   "metadata": {},
   "outputs": [
    {
     "name": "stdout",
     "output_type": "stream",
     "text": [
      "('input xy: ', matrix([[910.],\n",
      "        [958.],\n",
      "        [  1.]], dtype=float128))\n",
      "('output_gps: ', matrix([[ 23.90377386],\n",
      "        [121.53648421],\n",
      "        [  1.        ]], dtype=float128))\n",
      "('diff_gps: ', matrix([[1.92315805e-06],\n",
      "        [2.44877061e-05],\n",
      "        [0.00000000e+00]], dtype=float128))\n"
     ]
    }
   ],
   "source": [
    "#驗證 xy -> gps for point 5\n",
    "compute_xy2gps(5)"
   ]
  },
  {
   "cell_type": "code",
   "execution_count": 28,
   "metadata": {},
   "outputs": [
    {
     "name": "stdout",
     "output_type": "stream",
     "text": [
      "('input xy: ', matrix([[678.],\n",
      "        [454.],\n",
      "        [  1.]], dtype=float128))\n",
      "('output_gps: ', matrix([[ 23.90357492],\n",
      "        [121.5362715 ],\n",
      "        [  1.        ]], dtype=float128))\n",
      "('diff_gps: ', matrix([[7.13974568e-06],\n",
      "        [2.81747913e-05],\n",
      "        [0.00000000e+00]], dtype=float128))\n"
     ]
    }
   ],
   "source": [
    "#驗證 xy -> gps for point 6\n",
    "compute_xy2gps(6)"
   ]
  },
  {
   "cell_type": "code",
   "execution_count": 29,
   "metadata": {},
   "outputs": [
    {
     "name": "stdout",
     "output_type": "stream",
     "text": [
      "('input xy: ', matrix([[417.],\n",
      "        [540.],\n",
      "        [  1.]], dtype=float128))\n",
      "('output_gps: ', matrix([[ 23.90361078],\n",
      "        [121.53639782],\n",
      "        [  1.        ]], dtype=float128))\n",
      "('diff_gps: ', matrix([[6.61019132e-06],\n",
      "        [1.92102617e-05],\n",
      "        [0.00000000e+00]], dtype=float128))\n"
     ]
    }
   ],
   "source": [
    "#驗證 xy -> gps for point 7\n",
    "compute_xy2gps(7)"
   ]
  },
  {
   "cell_type": "code",
   "execution_count": 30,
   "metadata": {},
   "outputs": [
    {
     "name": "stdout",
     "output_type": "stream",
     "text": [
      "('input xy: ', matrix([[615.],\n",
      "        [456.],\n",
      "        [  1.]], dtype=float128))\n",
      "('output_gps: ', matrix([[ 23.90356549],\n",
      "        [121.53628823],\n",
      "        [  1.        ]], dtype=float128))\n",
      "('diff_gps: ', matrix([[7.71417706e-06],\n",
      "        [2.46209184e-05],\n",
      "        [0.00000000e+00]], dtype=float128))\n"
     ]
    }
   ],
   "source": [
    "#驗證 xy -> gps for point 8\n",
    "compute_xy2gps(8)"
   ]
  },
  {
   "cell_type": "code",
   "execution_count": 31,
   "metadata": {},
   "outputs": [
    {
     "name": "stdout",
     "output_type": "stream",
     "text": [
      "('input xy: ', matrix([[1.077e+03],\n",
      "        [4.750e+02],\n",
      "        [1.000e+00]], dtype=float128))\n",
      "('output_gps: ', matrix([[ 23.90367859],\n",
      "        [121.53621116],\n",
      "        [  1.        ]], dtype=float128))\n",
      "('diff_gps: ', matrix([[7.76456552e-06],\n",
      "        [1.92172449e-05],\n",
      "        [0.00000000e+00]], dtype=float128))\n"
     ]
    }
   ],
   "source": [
    "#驗證 xy -> gps for point 9\n",
    "compute_xy2gps(9)"
   ]
  },
  {
   "cell_type": "code",
   "execution_count": 32,
   "metadata": {},
   "outputs": [
    {
     "name": "stdout",
     "output_type": "stream",
     "text": [
      "('input xy: ', matrix([[1.554e+03],\n",
      "        [5.030e+02],\n",
      "        [1.000e+00]], dtype=float128))\n",
      "('output_gps: ', matrix([[ 23.90380859],\n",
      "        [121.53614198],\n",
      "        [  1.        ]], dtype=float128))\n",
      "('diff_gps: ', matrix([[ 1.55311750e-05],\n",
      "        [-1.10836845e-05],\n",
      "        [ 0.00000000e+00]], dtype=float128))\n"
     ]
    }
   ],
   "source": [
    "#驗證 xy -> gps for point 10\n",
    "compute_xy2gps(10)"
   ]
  },
  {
   "cell_type": "code",
   "execution_count": 33,
   "metadata": {},
   "outputs": [
    {
     "name": "stdout",
     "output_type": "stream",
     "text": [
      "('input xy: ', matrix([[1.036e+03],\n",
      "        [8.090e+02],\n",
      "        [1.000e+00]], dtype=float128))\n",
      "('output_gps: ', matrix([[ 23.90376984],\n",
      "        [121.53644676],\n",
      "        [  1.        ]], dtype=float128))\n",
      "('diff_gps: ', matrix([[3.44570142e-06],\n",
      "        [2.28679719e-05],\n",
      "        [0.00000000e+00]], dtype=float128))\n"
     ]
    }
   ],
   "source": [
    "#驗證 xy -> gps for point 11\n",
    "compute_xy2gps(11)"
   ]
  },
  {
   "cell_type": "code",
   "execution_count": 34,
   "metadata": {},
   "outputs": [
    {
     "name": "stdout",
     "output_type": "stream",
     "text": [
      "('input xy: ', matrix([[ 55.],\n",
      "        [448.],\n",
      "        [  1.]], dtype=float128))\n",
      "('output_gps: ', matrix([[ 23.90346526],\n",
      "        [121.53638575],\n",
      "        [  1.        ]], dtype=float128))\n",
      "('diff_gps: ', matrix([[ 7.33227411e-05],\n",
      "        [-6.40021663e-07],\n",
      "        [ 0.00000000e+00]], dtype=float128))\n"
     ]
    }
   ],
   "source": [
    "#驗證 xy -> gps for point 12\n",
    "compute_xy2gps(12)"
   ]
  },
  {
   "cell_type": "code",
   "execution_count": null,
   "metadata": {},
   "outputs": [],
   "source": []
  }
 ],
 "metadata": {
  "kernelspec": {
   "display_name": "Python 2",
   "language": "python",
   "name": "python2"
  },
  "language_info": {
   "codemirror_mode": {
    "name": "ipython",
    "version": 2
   },
   "file_extension": ".py",
   "mimetype": "text/x-python",
   "name": "python",
   "nbconvert_exporter": "python",
   "pygments_lexer": "ipython2",
   "version": "2.7.12"
  }
 },
 "nbformat": 4,
 "nbformat_minor": 2
}
